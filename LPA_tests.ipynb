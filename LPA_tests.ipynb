{
 "cells": [
  {
   "cell_type": "code",
   "execution_count": 6,
   "id": "9681dd1c-3fa0-49b1-bd92-3b8cc85bbe25",
   "metadata": {},
   "outputs": [
    {
     "name": "stdout",
     "output_type": "stream",
     "text": [
      "Requirement already satisfied: cairocffi in /Users/Alexx/opt/anaconda3/lib/python3.9/site-packages (1.4.0)\n",
      "Requirement already satisfied: cffi>=1.1.0 in /Users/Alexx/opt/anaconda3/lib/python3.9/site-packages (from cairocffi) (1.15.1)\n",
      "Requirement already satisfied: pycparser in /Users/Alexx/opt/anaconda3/lib/python3.9/site-packages (from cffi>=1.1.0->cairocffi) (2.21)\n"
     ]
    }
   ],
   "source": [
    "!pip install cairocffi"
   ]
  },
  {
   "cell_type": "code",
   "execution_count": 7,
   "id": "f4fe2247-8b10-4138-b4c3-1d4df85d8ad5",
   "metadata": {},
   "outputs": [
    {
     "name": "stdout",
     "output_type": "stream",
     "text": [
      "Found existing installation: igraph 0.10.2\n",
      "Uninstalling igraph-0.10.2:\n",
      "  Successfully uninstalled igraph-0.10.2\n",
      "Found existing installation: python-igraph 0.9.6\n",
      "Uninstalling python-igraph-0.9.6:\n",
      "  Successfully uninstalled python-igraph-0.9.6\n",
      "Collecting python-igraph==0.9.6\n",
      "  Using cached python_igraph-0.9.6-cp39-cp39-macosx_10_9_x86_64.whl (2.0 MB)\n",
      "Requirement already satisfied: texttable>=1.6.2 in /Users/Alexx/opt/anaconda3/lib/python3.9/site-packages (from python-igraph==0.9.6) (1.6.7)\n",
      "Installing collected packages: python-igraph\n",
      "Successfully installed python-igraph-0.9.6\n",
      "Requirement already satisfied: cairocffi in /Users/Alexx/opt/anaconda3/lib/python3.9/site-packages (1.4.0)\n",
      "Requirement already satisfied: cffi>=1.1.0 in /Users/Alexx/opt/anaconda3/lib/python3.9/site-packages (from cairocffi) (1.15.1)\n",
      "Requirement already satisfied: pycparser in /Users/Alexx/opt/anaconda3/lib/python3.9/site-packages (from cffi>=1.1.0->cairocffi) (2.21)\n"
     ]
    }
   ],
   "source": [
    "!pip3 uninstall igraph -y\n",
    "!pip3 uninstall python-igraph -y\n",
    "!pip3 install python-igraph==0.9.6\n",
    "!pip3 install cairocffi"
   ]
  },
  {
   "cell_type": "code",
   "execution_count": 1,
   "id": "cd5d40ac-49f9-4c1c-9e87-b55e258e39ca",
   "metadata": {},
   "outputs": [],
   "source": [
    "import cairocffi"
   ]
  },
  {
   "cell_type": "code",
   "execution_count": 9,
   "id": "0b4c4f6e-fee8-42f0-98f1-fc17cb974a8d",
   "metadata": {},
   "outputs": [
    {
     "name": "stdout",
     "output_type": "stream",
     "text": [
      "Requirement already satisfied: pycairo in /Users/Alexx/opt/anaconda3/lib/python3.9/site-packages (1.23.0)\n"
     ]
    }
   ],
   "source": [
    "!pip install pycairo"
   ]
  },
  {
   "cell_type": "code",
   "execution_count": 2,
   "id": "1bb9652c-4a62-41ff-b7eb-c306408ef44f",
   "metadata": {},
   "outputs": [
    {
     "ename": "ModuleNotFoundError",
     "evalue": "No module named 'pycairo'",
     "output_type": "error",
     "traceback": [
      "\u001b[0;31m---------------------------------------------------------------------------\u001b[0m",
      "\u001b[0;31mModuleNotFoundError\u001b[0m                       Traceback (most recent call last)",
      "\u001b[0;32m/var/folders/zn/1572lrw14snff0mc3dlr9grc0000gn/T/ipykernel_59389/658597947.py\u001b[0m in \u001b[0;36m<module>\u001b[0;34m\u001b[0m\n\u001b[0;32m----> 1\u001b[0;31m \u001b[0;32mimport\u001b[0m \u001b[0mpycairo\u001b[0m\u001b[0;34m\u001b[0m\u001b[0;34m\u001b[0m\u001b[0m\n\u001b[0m",
      "\u001b[0;31mModuleNotFoundError\u001b[0m: No module named 'pycairo'"
     ]
    }
   ],
   "source": [
    "import pycairo"
   ]
  },
  {
   "cell_type": "code",
   "execution_count": 2,
   "id": "a365d488-695c-456e-aa02-ec90bb82d773",
   "metadata": {},
   "outputs": [
    {
     "name": "stdout",
     "output_type": "stream",
     "text": [
      "Collecting igraph\n",
      "  Downloading igraph-0.10.3-cp39-abi3-macosx_10_9_x86_64.whl (1.9 MB)\n",
      "\u001b[2K     \u001b[90m━━━━━━━━━━━━━━━━━━━━━━━━━━━━━━━━━━━━━━━━\u001b[0m \u001b[32m1.9/1.9 MB\u001b[0m \u001b[31m3.4 MB/s\u001b[0m eta \u001b[36m0:00:00\u001b[0m00:01\u001b[0m00:01\u001b[0m\n",
      "\u001b[?25hRequirement already satisfied: texttable>=1.6.2 in /Users/Alexx/opt/anaconda3/lib/python3.9/site-packages (from igraph) (1.6.4)\n",
      "Installing collected packages: igraph\n",
      "Successfully installed igraph-0.10.3\n"
     ]
    }
   ],
   "source": [
    "!pip install igraph"
   ]
  },
  {
   "cell_type": "code",
   "execution_count": 3,
   "id": "d3ef161b-1ce4-4b0c-a191-0757c1ceb340",
   "metadata": {},
   "outputs": [
    {
     "data": {
      "text/plain": [
       "<igraph.Graph at 0x7fefe7c4ed60>"
      ]
     },
     "execution_count": 3,
     "metadata": {},
     "output_type": "execute_result"
    }
   ],
   "source": [
    "from igraph import *\n",
    "\n",
    "\n",
    "node_count = 7\n",
    "\n",
    "# Create graph\n",
    "g = Graph()\n",
    "\n",
    "# Add vertices\n",
    "g.add_vertices(node_count)\n",
    "\n",
    "for i in range(len(g.vs)):\n",
    "    g.vs[i][\"id\"]= i\n",
    "    g.vs[i][\"label\"]= str(i+1)\n",
    "\n",
    "edges = [(0,3), (2,3), (3,4), (4,5), (5,6), (5,1)]\n",
    "\n",
    "g.add_edges(edges)\n",
    "\n",
    "g.simplify(multiple=True, loops=False, combine_edges=None)"
   ]
  },
  {
   "cell_type": "code",
   "execution_count": 343,
   "id": "18faf59a-58ae-4631-a8dc-9e87d5bc0886",
   "metadata": {},
   "outputs": [],
   "source": [
    "def graph_plotter(graph, node_colours):\n",
    "    visual_style = {}\n",
    "    \n",
    "    fig, ax = plt.subplots()\n",
    "\n",
    "    g = graph.copy()\n",
    "    \n",
    "    g.vs[\"color\"] = node_colours\n",
    "\n",
    "    # Set bbox and margin\n",
    "    #visual_style[\"bbox\"] = (500,500)\n",
    "    visual_style[\"margin\"] = 17\n",
    "\n",
    "    # # Scale vertices based on degree\n",
    "    outdegree = g.outdegree()\n",
    "    visual_style[\"vertex_size\"] = 10\n",
    "\n",
    "    # Set vertex lable size\n",
    "    visual_style[\"vertex_label_size\"] = 8\n",
    "\n",
    "    # Don't curve the edges\n",
    "    visual_style[\"edge_curved\"] = False\n",
    "\n",
    "    # Set the layout\n",
    "    layout_1 = g.layout_fruchterman_reingold()\n",
    "    visual_style[\"layout\"] = layout_1\n",
    "\n",
    "    # Plot the graph\n",
    "    # plot(g, out_fig_name, **visual_style)\n",
    "    plot(g, target=ax, visual_style=visual_style)\n",
    "    \n",
    "    del(g)"
   ]
  },
  {
   "cell_type": "code",
   "execution_count": 344,
   "id": "5870a5d9-6f4f-431b-abbb-29479303be79",
   "metadata": {},
   "outputs": [
    {
     "data": {
      "image/png": "[encoded data removed]",
      "text/plain": [
       "<Figure size 640x480 with 1 Axes>"
      ]
     },
     "metadata": {},
     "output_type": "display_data"
    }
   ],
   "source": [
    "graph_plotter(g, node_colours)"
   ]
  },
  {
   "cell_type": "code",
   "execution_count": 400,
   "id": "6afc7e5c-739f-49b0-89f5-6cae144553fd",
   "metadata": {},
   "outputs": [
    {
     "ename": "SyntaxError",
     "evalue": "invalid syntax (3393418912.py, line 2)",
     "output_type": "error",
     "traceback": [
      "\u001b[0;36m  File \u001b[0;32m\"/var/folders/zn/1572lrw14snff0mc3dlr9grc0000gn/T/ipykernel_59389/3393418912.py\"\u001b[0;36m, line \u001b[0;32m2\u001b[0m\n\u001b[0;31m    x = 1:8\u001b[0m\n\u001b[0m         ^\u001b[0m\n\u001b[0;31mSyntaxError\u001b[0m\u001b[0;31m:\u001b[0m invalid syntax\n"
     ]
    }
   ],
   "source": [
    "library(igraph)\n",
    "x = 1:8\n",
    "y = rep(1,8)\n",
    "plot(x,y, pch=20, cex=10, col=categorical_pal(8), xlim=c(0.5,8.5))"
   ]
  },
  {
   "cell_type": "code",
   "execution_count": 487,
   "id": "704e6eb0-4603-4363-b68a-775d13b92cd8",
   "metadata": {},
   "outputs": [
    {
     "data": {
      "image/svg+xml": [
       "<?xml version=\"1.0\" encoding=\"UTF-8\"?>\n",
       "<svg xmlns=\"http://www.w3.org/2000/svg\" xmlns:xlink=\"http://www.w3.org/1999/xlink\" width=\"600pt\" height=\"600pt\" viewBox=\"0 0 600 600\" version=\"1.1\">\n",
       "<defs>\n",
       "<g>\n",
       "<symbol overflow=\"visible\" id=\"glyph0-0\">\n",
       "<path style=\"stroke:none;\" d=\"M 0.257812 0 L 0.257812 -5.738281 L 4.8125 -5.738281 L 4.8125 0 Z M 4.09375 -0.71875 L 4.09375 -5.019531 L 0.976562 -5.019531 L 0.976562 -0.71875 Z M 4.09375 -0.71875 \"/>\n",
       "</symbol>\n",
       "<symbol overflow=\"visible\" id=\"glyph0-1\">\n",
       "<path style=\"stroke:none;\" d=\"M 0.765625 -3.960938 L 0.765625 -4.5 C 1.273438 -4.550781 1.628906 -4.632812 1.828125 -4.75 C 2.027344 -4.863281 2.179688 -5.136719 2.277344 -5.570312 L 2.832031 -5.570312 L 2.832031 0 L 2.082031 0 L 2.082031 -3.960938 Z M 0.765625 -3.960938 \"/>\n",
       "</symbol>\n",
       "<symbol overflow=\"visible\" id=\"glyph0-2\">\n",
       "<path style=\"stroke:none;\" d=\"M 0.25 0 C 0.277344 -0.480469 0.375 -0.902344 0.546875 -1.257812 C 0.722656 -1.613281 1.058594 -1.9375 1.5625 -2.230469 L 2.3125 -2.664062 C 2.648438 -2.859375 2.882812 -3.027344 3.019531 -3.164062 C 3.234375 -3.378906 3.339844 -3.628906 3.339844 -3.90625 C 3.339844 -4.230469 3.242188 -4.492188 3.046875 -4.679688 C 2.851562 -4.871094 2.589844 -4.96875 2.265625 -4.96875 C 1.785156 -4.96875 1.449219 -4.785156 1.265625 -4.421875 C 1.167969 -4.226562 1.113281 -3.957031 1.101562 -3.609375 L 0.386719 -3.609375 C 0.394531 -4.097656 0.484375 -4.492188 0.65625 -4.800781 C 0.960938 -5.34375 1.5 -5.613281 2.269531 -5.613281 C 2.910156 -5.613281 3.378906 -5.441406 3.671875 -5.09375 C 3.96875 -4.746094 4.117188 -4.363281 4.117188 -3.9375 C 4.117188 -3.488281 3.960938 -3.105469 3.644531 -2.789062 C 3.460938 -2.605469 3.136719 -2.378906 2.664062 -2.117188 L 2.128906 -1.820312 C 1.875 -1.679688 1.671875 -1.546875 1.527344 -1.417969 C 1.265625 -1.191406 1.101562 -0.941406 1.035156 -0.664062 L 4.089844 -0.664062 L 4.089844 0 Z M 0.25 0 \"/>\n",
       "</symbol>\n",
       "<symbol overflow=\"visible\" id=\"glyph0-3\">\n",
       "<path style=\"stroke:none;\" d=\"M 2.078125 0.152344 C 1.417969 0.152344 0.9375 -0.03125 0.640625 -0.390625 C 0.339844 -0.753906 0.191406 -1.199219 0.191406 -1.71875 L 0.925781 -1.71875 C 0.957031 -1.355469 1.023438 -1.09375 1.128906 -0.929688 C 1.3125 -0.636719 1.640625 -0.488281 2.117188 -0.488281 C 2.488281 -0.488281 2.785156 -0.585938 3.007812 -0.785156 C 3.230469 -0.984375 3.34375 -1.238281 3.34375 -1.550781 C 3.34375 -1.9375 3.226562 -2.207031 2.992188 -2.359375 C 2.753906 -2.511719 2.425781 -2.589844 2.007812 -2.589844 C 1.960938 -2.589844 1.914062 -2.589844 1.867188 -2.585938 C 1.816406 -2.585938 1.769531 -2.585938 1.71875 -2.582031 L 1.71875 -3.203125 C 1.792969 -3.195312 1.851562 -3.191406 1.902344 -3.1875 C 1.953125 -3.183594 2.003906 -3.183594 2.0625 -3.183594 C 2.324219 -3.183594 2.542969 -3.226562 2.710938 -3.308594 C 3.007812 -3.453125 3.15625 -3.714844 3.15625 -4.089844 C 3.15625 -4.367188 3.058594 -4.582031 2.859375 -4.734375 C 2.660156 -4.886719 2.429688 -4.960938 2.167969 -4.960938 C 1.699219 -4.960938 1.375 -4.804688 1.195312 -4.492188 C 1.097656 -4.320312 1.039062 -4.074219 1.027344 -3.757812 L 0.332031 -3.757812 C 0.332031 -4.175781 0.414062 -4.527344 0.582031 -4.820312 C 0.867188 -5.339844 1.371094 -5.601562 2.09375 -5.601562 C 2.664062 -5.601562 3.105469 -5.476562 3.417969 -5.21875 C 3.730469 -4.964844 3.886719 -4.597656 3.886719 -4.117188 C 3.886719 -3.773438 3.792969 -3.496094 3.609375 -3.28125 C 3.496094 -3.148438 3.347656 -3.042969 3.164062 -2.96875 C 3.457031 -2.886719 3.6875 -2.734375 3.851562 -2.5 C 4.019531 -2.269531 4.101562 -1.988281 4.101562 -1.65625 C 4.101562 -1.121094 3.925781 -0.6875 3.574219 -0.351562 C 3.222656 -0.015625 2.722656 0.152344 2.078125 0.152344 Z M 2.078125 0.152344 \"/>\n",
       "</symbol>\n",
       "<symbol overflow=\"visible\" id=\"glyph0-4\">\n",
       "<path style=\"stroke:none;\" d=\"M 2.644531 -1.980469 L 2.644531 -4.515625 L 0.851562 -1.980469 Z M 2.65625 0 L 2.65625 -1.367188 L 0.203125 -1.367188 L 0.203125 -2.054688 L 2.765625 -5.609375 L 3.359375 -5.609375 L 3.359375 -1.980469 L 4.183594 -1.980469 L 4.183594 -1.367188 L 3.359375 -1.367188 L 3.359375 0 Z M 2.65625 0 \"/>\n",
       "</symbol>\n",
       "<symbol overflow=\"visible\" id=\"glyph0-5\">\n",
       "<path style=\"stroke:none;\" d=\"M 0.988281 -1.425781 C 1.035156 -1.023438 1.222656 -0.746094 1.546875 -0.59375 C 1.714844 -0.515625 1.90625 -0.476562 2.125 -0.476562 C 2.542969 -0.476562 2.851562 -0.609375 3.050781 -0.875 C 3.25 -1.140625 3.351562 -1.433594 3.351562 -1.757812 C 3.351562 -2.148438 3.234375 -2.449219 2.992188 -2.664062 C 2.753906 -2.878906 2.46875 -2.984375 2.136719 -2.984375 C 1.894531 -2.984375 1.6875 -2.9375 1.515625 -2.84375 C 1.339844 -2.75 1.191406 -2.621094 1.070312 -2.453125 L 0.460938 -2.488281 L 0.886719 -5.5 L 3.792969 -5.5 L 3.792969 -4.820312 L 1.414062 -4.820312 L 1.175781 -3.265625 C 1.304688 -3.363281 1.429688 -3.4375 1.546875 -3.488281 C 1.753906 -3.574219 1.996094 -3.617188 2.269531 -3.617188 C 2.78125 -3.617188 3.21875 -3.453125 3.574219 -3.121094 C 3.929688 -2.789062 4.109375 -2.371094 4.109375 -1.863281 C 4.109375 -1.335938 3.945312 -0.867188 3.617188 -0.464844 C 3.292969 -0.0625 2.769531 0.140625 2.054688 0.140625 C 1.597656 0.140625 1.195312 0.0117188 0.84375 -0.242188 C 0.496094 -0.5 0.300781 -0.894531 0.257812 -1.425781 Z M 0.988281 -1.425781 \"/>\n",
       "</symbol>\n",
       "<symbol overflow=\"visible\" id=\"glyph0-6\">\n",
       "<path style=\"stroke:none;\" d=\"M 2.339844 -5.617188 C 2.964844 -5.617188 3.398438 -5.453125 3.648438 -5.132812 C 3.894531 -4.808594 4.015625 -4.472656 4.015625 -4.128906 L 3.320312 -4.128906 C 3.277344 -4.351562 3.210938 -4.523438 3.121094 -4.648438 C 2.953125 -4.882812 2.695312 -5 2.351562 -5 C 1.957031 -5 1.644531 -4.820312 1.414062 -4.453125 C 1.183594 -4.089844 1.054688 -3.570312 1.027344 -2.894531 C 1.1875 -3.132812 1.390625 -3.308594 1.636719 -3.425781 C 1.859375 -3.53125 2.109375 -3.582031 2.386719 -3.582031 C 2.855469 -3.582031 3.265625 -3.433594 3.613281 -3.132812 C 3.960938 -2.832031 4.136719 -2.386719 4.136719 -1.792969 C 4.136719 -1.285156 3.972656 -0.835938 3.640625 -0.445312 C 3.308594 -0.0507812 2.839844 0.144531 2.226562 0.144531 C 1.703125 0.144531 1.25 -0.0546875 0.871094 -0.453125 C 0.492188 -0.847656 0.300781 -1.515625 0.300781 -2.457031 C 0.300781 -3.152344 0.386719 -3.742188 0.554688 -4.226562 C 0.878906 -5.152344 1.476562 -5.617188 2.339844 -5.617188 Z M 2.289062 -0.480469 C 2.660156 -0.480469 2.9375 -0.605469 3.117188 -0.851562 C 3.300781 -1.101562 3.394531 -1.394531 3.394531 -1.734375 C 3.394531 -2.019531 3.3125 -2.292969 3.148438 -2.554688 C 2.984375 -2.8125 2.6875 -2.941406 2.253906 -2.941406 C 1.953125 -2.941406 1.6875 -2.839844 1.460938 -2.640625 C 1.230469 -2.441406 1.117188 -2.136719 1.117188 -1.734375 C 1.117188 -1.378906 1.21875 -1.082031 1.429688 -0.84375 C 1.636719 -0.601562 1.921875 -0.480469 2.289062 -0.480469 Z M 2.289062 -0.480469 \"/>\n",
       "</symbol>\n",
       "<symbol overflow=\"visible\" id=\"glyph0-7\">\n",
       "<path style=\"stroke:none;\" d=\"M 4.183594 -5.5 L 4.183594 -4.886719 C 4.003906 -4.710938 3.765625 -4.410156 3.46875 -3.976562 C 3.167969 -3.542969 2.90625 -3.078125 2.675781 -2.578125 C 2.449219 -2.089844 2.277344 -1.648438 2.160156 -1.246094 C 2.085938 -0.988281 1.988281 -0.574219 1.867188 0 L 1.089844 0 C 1.265625 -1.066406 1.65625 -2.128906 2.261719 -3.1875 C 2.617188 -3.808594 2.992188 -4.34375 3.386719 -4.792969 L 0.292969 -4.792969 L 0.292969 -5.5 Z M 4.183594 -5.5 \"/>\n",
       "</symbol>\n",
       "</g>\n",
       "</defs>\n",
       "<g id=\"surface4078\">\n",
       "<rect x=\"0\" y=\"0\" width=\"600\" height=\"600\" style=\"fill:rgb(100%,100%,100%);fill-opacity:1;stroke:none;\"/>\n",
       "<path style=\"fill:none;stroke-width:1;stroke-linecap:butt;stroke-linejoin:miter;stroke:rgb(26.666667%,26.666667%,26.666667%);stroke-opacity:1;stroke-miterlimit:10;\" d=\"M 212.390625 17 L 183.929688 151.960938 \"/>\n",
       "<path style=\"fill:none;stroke-width:1;stroke-linecap:butt;stroke-linejoin:miter;stroke:rgb(26.666667%,26.666667%,26.666667%);stroke-opacity:1;stroke-miterlimit:10;\" d=\"M 583 490.148438 L 416.109375 448.125 \"/>\n",
       "<path style=\"fill:none;stroke-width:1;stroke-linecap:butt;stroke-linejoin:miter;stroke:rgb(26.666667%,26.666667%,26.666667%);stroke-opacity:1;stroke-miterlimit:10;\" d=\"M 17 109.957031 L 183.929688 151.960938 \"/>\n",
       "<path style=\"fill:none;stroke-width:1;stroke-linecap:butt;stroke-linejoin:miter;stroke:rgb(26.666667%,26.666667%,26.666667%);stroke-opacity:1;stroke-miterlimit:10;\" d=\"M 183.929688 151.960938 L 300.019531 299.996094 \"/>\n",
       "<path style=\"fill:none;stroke-width:1;stroke-linecap:butt;stroke-linejoin:miter;stroke:rgb(26.666667%,26.666667%,26.666667%);stroke-opacity:1;stroke-miterlimit:10;\" d=\"M 300.019531 299.996094 L 416.109375 448.125 \"/>\n",
       "<path style=\"fill:none;stroke-width:1;stroke-linecap:butt;stroke-linejoin:miter;stroke:rgb(26.666667%,26.666667%,26.666667%);stroke-opacity:1;stroke-miterlimit:10;\" d=\"M 416.109375 448.125 L 387.449219 583 \"/>\n",
       "<path style=\"fill-rule:nonzero;fill:rgb(0%,100%,0%);fill-opacity:1;stroke-width:1;stroke-linecap:butt;stroke-linejoin:miter;stroke:rgb(0%,0%,0%);stroke-opacity:1;stroke-miterlimit:10;\" d=\"M 217.390625 17 C 217.390625 23.667969 207.390625 23.667969 207.390625 17 C 207.390625 10.332031 217.390625 10.332031 217.390625 17 \"/>\n",
       "<path style=\"fill-rule:nonzero;fill:rgb(100%,0%,0%);fill-opacity:1;stroke-width:1;stroke-linecap:butt;stroke-linejoin:miter;stroke:rgb(0%,0%,0%);stroke-opacity:1;stroke-miterlimit:10;\" d=\"M 588 490.148438 C 588 496.816406 578 496.816406 578 490.148438 C 578 483.480469 588 483.480469 588 490.148438 \"/>\n",
       "<path style=\"fill-rule:nonzero;fill:rgb(74.509804%,74.509804%,74.509804%);fill-opacity:1;stroke-width:1;stroke-linecap:butt;stroke-linejoin:miter;stroke:rgb(0%,0%,0%);stroke-opacity:1;stroke-miterlimit:10;\" d=\"M 22 109.957031 C 22 116.621094 12 116.621094 12 109.957031 C 12 103.289062 22 103.289062 22 109.957031 \"/>\n",
       "<path style=\"fill-rule:nonzero;fill:rgb(74.509804%,74.509804%,74.509804%);fill-opacity:1;stroke-width:1;stroke-linecap:butt;stroke-linejoin:miter;stroke:rgb(0%,0%,0%);stroke-opacity:1;stroke-miterlimit:10;\" d=\"M 188.929688 151.960938 C 188.929688 158.625 178.929688 158.625 178.929688 151.960938 C 178.929688 145.292969 188.929688 145.292969 188.929688 151.960938 \"/>\n",
       "<path style=\"fill-rule:nonzero;fill:rgb(74.509804%,74.509804%,74.509804%);fill-opacity:1;stroke-width:1;stroke-linecap:butt;stroke-linejoin:miter;stroke:rgb(0%,0%,0%);stroke-opacity:1;stroke-miterlimit:10;\" d=\"M 305.019531 299.996094 C 305.019531 306.660156 295.019531 306.660156 295.019531 299.996094 C 295.019531 293.328125 305.019531 293.328125 305.019531 299.996094 \"/>\n",
       "<path style=\"fill-rule:nonzero;fill:rgb(74.509804%,74.509804%,74.509804%);fill-opacity:1;stroke-width:1;stroke-linecap:butt;stroke-linejoin:miter;stroke:rgb(0%,0%,0%);stroke-opacity:1;stroke-miterlimit:10;\" d=\"M 421.109375 448.125 C 421.109375 454.789062 411.109375 454.789062 411.109375 448.125 C 411.109375 441.457031 421.109375 441.457031 421.109375 448.125 \"/>\n",
       "<path style=\"fill-rule:nonzero;fill:rgb(74.509804%,74.509804%,74.509804%);fill-opacity:1;stroke-width:1;stroke-linecap:butt;stroke-linejoin:miter;stroke:rgb(0%,0%,0%);stroke-opacity:1;stroke-miterlimit:10;\" d=\"M 392.449219 583 C 392.449219 589.667969 382.449219 589.667969 382.449219 583 C 382.449219 576.332031 392.449219 576.332031 392.449219 583 \"/>\n",
       "<g style=\"fill:rgb(0%,0%,0%);fill-opacity:1;\">\n",
       "  <use xlink:href=\"#glyph0-1\" x=\"210.59375\" y=\"20.703125\"/>\n",
       "</g>\n",
       "<g style=\"fill:rgb(0%,0%,0%);fill-opacity:1;\">\n",
       "  <use xlink:href=\"#glyph0-2\" x=\"580.816406\" y=\"493.875\"/>\n",
       "</g>\n",
       "<g style=\"fill:rgb(0%,0%,0%);fill-opacity:1;\">\n",
       "  <use xlink:href=\"#glyph0-3\" x=\"14.851562\" y=\"113.675781\"/>\n",
       "</g>\n",
       "<g style=\"fill:rgb(0%,0%,0%);fill-opacity:1;\">\n",
       "  <use xlink:href=\"#glyph0-4\" x=\"181.734375\" y=\"155.683594\"/>\n",
       "</g>\n",
       "<g style=\"fill:rgb(0%,0%,0%);fill-opacity:1;\">\n",
       "  <use xlink:href=\"#glyph0-5\" x=\"297.835938\" y=\"303.664062\"/>\n",
       "</g>\n",
       "<g style=\"fill:rgb(0%,0%,0%);fill-opacity:1;\">\n",
       "  <use xlink:href=\"#glyph0-6\" x=\"413.890625\" y=\"451.851562\"/>\n",
       "</g>\n",
       "<g style=\"fill:rgb(0%,0%,0%);fill-opacity:1;\">\n",
       "  <use xlink:href=\"#glyph0-7\" x=\"385.210938\" y=\"586.671875\"/>\n",
       "</g>\n",
       "</g>\n",
       "</svg>\n"
      ],
      "text/plain": [
       "<igraph.drawing.Plot at 0x7fefd3917a30>"
      ]
     },
     "execution_count": 487,
     "metadata": {
      "image/svg+xml": {
       "isolated": true
      }
     },
     "output_type": "execute_result"
    }
   ],
   "source": [
    "out_fig_name = \"graph_plot.png\"\n",
    "\n",
    "visual_style = {}\n",
    "\n",
    "# Define colors for nodes\n",
    "\n",
    "node_colours = [\"green\", \"red\", \"grey\", \"grey\", \"grey\", \"grey\", \"grey\"]\n",
    "\n",
    "g.vs[\"color\"] = node_colours\n",
    "\n",
    "# Set bbox and margin\n",
    "#visual_style[\"bbox\"] = (500,500)\n",
    "visual_style[\"margin\"] = 17\n",
    "\n",
    "# # Scale vertices based on degree\n",
    "# outdegree = g.outdegree()\n",
    "visual_style[\"vertex_size\"] = 10\n",
    "\n",
    "# Set vertex lable size\n",
    "visual_style[\"vertex_label_size\"] = 8\n",
    "\n",
    "# Don't curve the edges\n",
    "visual_style[\"edge_curved\"] = False\n",
    "\n",
    "# Set the layout\n",
    "layout_1 = g.layout_fruchterman_reingold()\n",
    "visual_style[\"layout\"] = layout_1\n",
    "\n",
    "# Plot the graph\n",
    "# plot(g, out_fig_name, **visual_style)\n",
    "plot(g, **visual_style)\n"
   ]
  },
  {
   "cell_type": "code",
   "execution_count": null,
   "id": "b56635cd-1619-4521-936f-391394a9cbc1",
   "metadata": {},
   "outputs": [],
   "source": []
  },
  {
   "cell_type": "code",
   "execution_count": 119,
   "id": "4db71990-2067-4b23-84ea-07e3bf26c871",
   "metadata": {},
   "outputs": [],
   "source": [
    "import matplotlib.pyplot as plt"
   ]
  },
  {
   "cell_type": "code",
   "execution_count": null,
   "id": "70ef453b-1d25-4d85-a42a-4a45dcb6c7bc",
   "metadata": {},
   "outputs": [],
   "source": []
  },
  {
   "cell_type": "code",
   "execution_count": 5,
   "id": "fed69e08-5b87-4c60-b67a-a89a10253ac8",
   "metadata": {},
   "outputs": [
    {
     "data": {
      "text/plain": [
       "matrix([[1.        , 0.        , 0.        , 0.        , 0.        ,\n",
       "         0.        , 0.        ],\n",
       "        [0.        , 1.        , 0.        , 0.        , 0.        ,\n",
       "         0.        , 0.        ],\n",
       "        [0.        , 0.        , 1.        , 0.        , 0.        ,\n",
       "         0.        , 0.        ],\n",
       "        [0.        , 0.        , 0.        , 0.33333333, 0.        ,\n",
       "         0.        , 0.        ],\n",
       "        [0.        , 0.        , 0.        , 0.        , 0.5       ,\n",
       "         0.        , 0.        ],\n",
       "        [0.        , 0.        , 0.        , 0.        , 0.        ,\n",
       "         0.33333333, 0.        ],\n",
       "        [0.        , 0.        , 0.        , 0.        , 0.        ,\n",
       "         0.        , 1.        ]])"
      ]
     },
     "execution_count": 5,
     "metadata": {},
     "output_type": "execute_result"
    }
   ],
   "source": [
    "import numpy as np\n",
    "from numpy.linalg import inv\n",
    "\n",
    "D = np.matrix(np.array([[1,0,0,0,0,0,0], [0,1,0,0,0,0,0], [0,0,1,0,0,0,0], [0,0,0,3,0,0,0], [0,0,0,0,2,0,0], [0,0,0,0,0,3,0], [0,0,0,0,0,0,1]]))\n",
    "Dinv = inv(D)\n",
    "Dinv"
   ]
  },
  {
   "cell_type": "code",
   "execution_count": 6,
   "id": "76b4d783-b7c9-4731-90e8-3e6619a8d452",
   "metadata": {},
   "outputs": [
    {
     "data": {
      "text/plain": [
       "matrix([[1, 0, 0, 0, 0, 0, 0],\n",
       "        [0, 1, 0, 0, 0, 0, 0],\n",
       "        [0, 0, 0, 1, 0, 0, 0],\n",
       "        [1, 0, 1, 0, 1, 0, 0],\n",
       "        [0, 0, 0, 1, 0, 1, 0],\n",
       "        [0, 1, 0, 0, 1, 0, 1],\n",
       "        [0, 0, 0, 0, 0, 1, 0]])"
      ]
     },
     "execution_count": 6,
     "metadata": {},
     "output_type": "execute_result"
    }
   ],
   "source": [
    "A = np.matrix(np.array([[1,0,0,0,0,0,0], [0,1,0,0,0,0,0], [0,0,0,1,0,0,0], [1,0,1,0,1,0,0], [0,0,0,1,0,1,0], [0,1,0,0,1,0,1], [0,0,0,0,0,1,0]]))\n",
    "A"
   ]
  },
  {
   "cell_type": "code",
   "execution_count": 7,
   "id": "970e2b84-6320-4e75-b9d4-e304de4c144b",
   "metadata": {},
   "outputs": [
    {
     "data": {
      "text/plain": [
       "matrix([[1.        , 0.        , 0.        , 0.        , 0.        ,\n",
       "         0.        , 0.        ],\n",
       "        [0.        , 1.        , 0.        , 0.        , 0.        ,\n",
       "         0.        , 0.        ],\n",
       "        [0.        , 0.        , 0.        , 1.        , 0.        ,\n",
       "         0.        , 0.        ],\n",
       "        [0.33333333, 0.        , 0.33333333, 0.        , 0.33333333,\n",
       "         0.        , 0.        ],\n",
       "        [0.        , 0.        , 0.        , 0.5       , 0.        ,\n",
       "         0.5       , 0.        ],\n",
       "        [0.        , 0.33333333, 0.        , 0.        , 0.33333333,\n",
       "         0.        , 0.33333333],\n",
       "        [0.        , 0.        , 0.        , 0.        , 0.        ,\n",
       "         1.        , 0.        ]])"
      ]
     },
     "execution_count": 7,
     "metadata": {},
     "output_type": "execute_result"
    }
   ],
   "source": [
    "S = Dinv*A\n",
    "S"
   ]
  },
  {
   "cell_type": "markdown",
   "id": "89f395db-78fa-4938-9f79-f1c3d5fa4f33",
   "metadata": {},
   "source": [
    "## Label Propagation"
   ]
  },
  {
   "cell_type": "code",
   "execution_count": 534,
   "id": "4980fb50-06ab-4ef8-b34a-1b83dee84f15",
   "metadata": {},
   "outputs": [],
   "source": [
    "import sys\n",
    "\n",
    "def LabelPropagation(T, Y, diff, max_iter, labelled, graph):\n",
    "\n",
    "    alpha = 0.5\n",
    "    \n",
    "    graph_list = []\n",
    "    Y_list = []\n",
    "    \n",
    "    graph_list.append(graph)\n",
    "    \n",
    "    # fig, axs = plt.subplots(1, 2, sharex=True, sharey=True)\n",
    "    \n",
    "    # Initialize\n",
    "    Y_init = Y\n",
    "    Y1 = Y\n",
    "    \n",
    "    # Initialize convergence parameters\n",
    "    n=0\n",
    "    current_diff = sys.maxsize\n",
    "    \n",
    "    print('LPA is on...')\n",
    "    \n",
    "    # Iterate till difference reduces below diff or till the maximum number of iterations is reached\n",
    "    while current_diff > diff and n < max_iter:\n",
    "        \n",
    "        current_diff = 0.0\n",
    "        # Set Y(t)\n",
    "        Y0 = Y1\n",
    "        \n",
    "        # Calculate Y(t+1)\n",
    "        Y1 = T*Y0\n",
    "        \n",
    "        # Clamp labelled data\n",
    "        for i in range(Y_init.shape[0]):\n",
    "            if i in labelled:\n",
    "                for j in range(Y_init.shape[1]):\n",
    "                    if i!=j:\n",
    "                        Y1.A[i][j] = Y_init.A[i][j]\n",
    "        \n",
    "        # Get difference between values of Y(t+1) and Y(t)\n",
    "        for i in range(Y1.shape[0]):\n",
    "            for j in range(Y1.shape[1]):\n",
    "                current_diff += abs(Y1.A[i][j] - Y0.A[i][j])\n",
    "        \n",
    "        n += 1\n",
    "        \n",
    "        # node_colors = list(map(red_green_color, np.asarray(Y1[:, 1]).reshape(-1)))\n",
    "        # node_colors = list(map(red_green_color2, np.asarray(Y1[:, 1]).reshape(-1)))\n",
    "        \n",
    "        node_colors = list(map(red_green_color2_ext, np.asarray(Y1[:, ])))\n",
    "        \n",
    "\n",
    "        graph1 = graph.copy()\n",
    "        graph1.vs[\"color\"] = node_colors\n",
    "        \n",
    "        graph_list.append(graph1)\n",
    "        Y_list.append(np.asarray(Y1[:, 1]))\n",
    "        \n",
    "        # plot(graph, **visual_style, target=axs[0])\n",
    "\n",
    "        \n",
    "        # print(node_colors)\n",
    "        \n",
    "        # graph_sequence.append(g)\n",
    "        # plot(g, **visual_style)  \n",
    "        \n",
    "    return Y1, graph_list, Y_list"
   ]
  },
  {
   "cell_type": "code",
   "execution_count": 535,
   "id": "83a8fa18-e732-4bb2-9371-c414b5fe5a74",
   "metadata": {},
   "outputs": [
    {
     "name": "stdout",
     "output_type": "stream",
     "text": [
      "LPA is on...\n",
      "CPU times: user 3.51 ms, sys: 825 µs, total: 4.34 ms\n",
      "Wall time: 5.44 ms\n"
     ]
    }
   ],
   "source": [
    "%%time\n",
    "Y = np.matrix(np.array([[1,0], [0,1], [0,0], [0,0], [0,0], [0,0], [0,0]]))\n",
    "L, graph_sequence, Y_list = LabelPropagation(S, Y, 0.0001, 20, [0,1], g)"
   ]
  },
  {
   "cell_type": "code",
   "execution_count": 530,
   "id": "ee003cf4-7739-4305-b02d-0f658d0be994",
   "metadata": {},
   "outputs": [],
   "source": [
    "figure = Plot(bbox=BoundingBox(0, 0, len(graph_sequence)*200, 200))\n",
    "for i, graph in enumerate(graph_sequence):\n",
    "    figure.add(graph, bbox=BoundingBox(i*200, 0, (i+1)*200, 200), margin=20)\n",
    "figure.show()            # this will show the figure\n",
    "figure.save(\"test.pdf\")  # this will save the figure into "
   ]
  },
  {
   "cell_type": "code",
   "execution_count": 377,
   "id": "ea5bb0f3-81a3-44a1-a494-5b3f03bbae16",
   "metadata": {},
   "outputs": [
    {
     "data": {
      "text/plain": [
       "matrix([[0.        ],\n",
       "        [1.        ],\n",
       "        [0.        ],\n",
       "        [0.        ],\n",
       "        [0.        ],\n",
       "        [0.33333333],\n",
       "        [0.        ]])"
      ]
     },
     "execution_count": 377,
     "metadata": {},
     "output_type": "execute_result"
    }
   ],
   "source": [
    "Y_list[0][:, 1]"
   ]
  },
  {
   "cell_type": "code",
   "execution_count": 390,
   "id": "7684acb1-bb23-4f26-abc7-57842bd27960",
   "metadata": {},
   "outputs": [
    {
     "data": {
      "text/plain": [
       "matrix([[0.        ],\n",
       "        [1.        ],\n",
       "        [0.        ],\n",
       "        [0.        ],\n",
       "        [0.16666667],\n",
       "        [0.33333333],\n",
       "        [0.33333333]])"
      ]
     },
     "execution_count": 390,
     "metadata": {},
     "output_type": "execute_result"
    }
   ],
   "source": [
    "Y_list[1][:, 1]"
   ]
  },
  {
   "cell_type": "code",
   "execution_count": null,
   "id": "d5872026-86f9-4e44-a25b-e3703ec910d7",
   "metadata": {},
   "outputs": [],
   "source": []
  },
  {
   "cell_type": "code",
   "execution_count": 389,
   "id": "5a5f7b95-4aeb-4977-ad7b-58387da48684",
   "metadata": {},
   "outputs": [
    {
     "ename": "NameError",
     "evalue": "name 'T' is not defined",
     "output_type": "error",
     "traceback": [
      "\u001b[0;31m---------------------------------------------------------------------------\u001b[0m",
      "\u001b[0;31mNameError\u001b[0m                                 Traceback (most recent call last)",
      "\u001b[0;32m/var/folders/zn/1572lrw14snff0mc3dlr9grc0000gn/T/ipykernel_59389/2203278621.py\u001b[0m in \u001b[0;36m<module>\u001b[0;34m\u001b[0m\n\u001b[0;32m----> 1\u001b[0;31m \u001b[0mT\u001b[0m\u001b[0;34m\u001b[0m\u001b[0;34m\u001b[0m\u001b[0m\n\u001b[0m",
      "\u001b[0;31mNameError\u001b[0m: name 'T' is not defined"
     ]
    }
   ],
   "source": []
  },
  {
   "cell_type": "code",
   "execution_count": null,
   "id": "0705077e-1ac8-4ef3-bb28-605196a55fa2",
   "metadata": {},
   "outputs": [],
   "source": []
  },
  {
   "cell_type": "code",
   "execution_count": null,
   "id": "1aff5069-f5c1-4187-ab36-0d116463c88e",
   "metadata": {},
   "outputs": [],
   "source": []
  },
  {
   "cell_type": "code",
   "execution_count": 368,
   "id": "73d70248-5dd5-42af-8871-0b703308f869",
   "metadata": {},
   "outputs": [
    {
     "data": {
      "image/svg+xml": [
       "<?xml version=\"1.0\" encoding=\"UTF-8\"?>\n",
       "<svg xmlns=\"http://www.w3.org/2000/svg\" xmlns:xlink=\"http://www.w3.org/1999/xlink\" width=\"600pt\" height=\"600pt\" viewBox=\"0 0 600 600\" version=\"1.1\">\n",
       "<defs>\n",
       "<g>\n",
       "<symbol overflow=\"visible\" id=\"glyph0-0\">\n",
       "<path style=\"stroke:none;\" d=\"M 0.453125 0 L 0.453125 -10.042969 L 8.421875 -10.042969 L 8.421875 0 Z M 7.164062 -1.257812 L 7.164062 -8.785156 L 1.710938 -8.785156 L 1.710938 -1.257812 Z M 7.164062 -1.257812 \"/>\n",
       "</symbol>\n",
       "<symbol overflow=\"visible\" id=\"glyph0-1\">\n",
       "<path style=\"stroke:none;\" d=\"M 1.339844 -6.929688 L 1.339844 -7.875 C 2.226562 -7.960938 2.847656 -8.105469 3.199219 -8.308594 C 3.550781 -8.511719 3.8125 -8.992188 3.984375 -9.75 L 4.957031 -9.75 L 4.957031 0 L 3.644531 0 L 3.644531 -6.929688 Z M 1.339844 -6.929688 \"/>\n",
       "</symbol>\n",
       "<symbol overflow=\"visible\" id=\"glyph0-2\">\n",
       "<path style=\"stroke:none;\" d=\"M 0.4375 0 C 0.484375 -0.84375 0.65625 -1.578125 0.960938 -2.203125 C 1.265625 -2.828125 1.855469 -3.394531 2.734375 -3.902344 L 4.046875 -4.664062 C 4.632812 -5.003906 5.046875 -5.296875 5.285156 -5.539062 C 5.65625 -5.914062 5.84375 -6.347656 5.84375 -6.835938 C 5.84375 -7.40625 5.671875 -7.859375 5.332031 -8.191406 C 4.992188 -8.527344 4.535156 -8.695312 3.964844 -8.695312 C 3.121094 -8.695312 2.539062 -8.375 2.214844 -7.738281 C 2.042969 -7.398438 1.945312 -6.921875 1.929688 -6.316406 L 0.675781 -6.316406 C 0.691406 -7.167969 0.847656 -7.863281 1.148438 -8.402344 C 1.679688 -9.351562 2.621094 -9.824219 3.972656 -9.824219 C 5.09375 -9.824219 5.910156 -9.519531 6.429688 -8.914062 C 6.945312 -8.308594 7.203125 -7.632812 7.203125 -6.890625 C 7.203125 -6.105469 6.929688 -5.4375 6.378906 -4.882812 C 6.058594 -4.558594 5.488281 -4.164062 4.664062 -3.703125 L 3.726562 -3.1875 C 3.28125 -2.941406 2.929688 -2.703125 2.671875 -2.480469 C 2.21875 -2.085938 1.929688 -1.644531 1.8125 -1.164062 L 7.15625 -1.164062 L 7.15625 0 Z M 0.4375 0 \"/>\n",
       "</symbol>\n",
       "<symbol overflow=\"visible\" id=\"glyph0-3\">\n",
       "<path style=\"stroke:none;\" d=\"M 3.636719 0.265625 C 2.480469 0.265625 1.640625 -0.0507812 1.117188 -0.6875 C 0.59375 -1.324219 0.335938 -2.097656 0.335938 -3.007812 L 1.621094 -3.007812 C 1.675781 -2.375 1.792969 -1.914062 1.976562 -1.625 C 2.296875 -1.109375 2.871094 -0.855469 3.703125 -0.855469 C 4.351562 -0.855469 4.871094 -1.027344 5.265625 -1.375 C 5.65625 -1.71875 5.851562 -2.167969 5.851562 -2.714844 C 5.851562 -3.390625 5.644531 -3.859375 5.234375 -4.128906 C 4.820312 -4.398438 4.246094 -4.53125 3.515625 -4.53125 C 3.433594 -4.53125 3.347656 -4.53125 3.265625 -4.527344 C 3.179688 -4.527344 3.09375 -4.523438 3.007812 -4.519531 L 3.007812 -5.605469 C 3.136719 -5.59375 3.242188 -5.582031 3.328125 -5.578125 C 3.414062 -5.574219 3.507812 -5.570312 3.609375 -5.570312 C 4.070312 -5.570312 4.449219 -5.644531 4.742188 -5.789062 C 5.261719 -6.046875 5.523438 -6.5 5.523438 -7.15625 C 5.523438 -7.644531 5.351562 -8.019531 5.003906 -8.285156 C 4.65625 -8.550781 4.253906 -8.679688 3.792969 -8.679688 C 2.972656 -8.679688 2.40625 -8.40625 2.09375 -7.859375 C 1.917969 -7.558594 1.820312 -7.132812 1.796875 -6.578125 L 0.582031 -6.578125 C 0.582031 -7.304688 0.726562 -7.925781 1.019531 -8.4375 C 1.519531 -9.347656 2.402344 -9.804688 3.664062 -9.804688 C 4.664062 -9.804688 5.433594 -9.582031 5.980469 -9.136719 C 6.527344 -8.691406 6.800781 -8.046875 6.800781 -7.203125 C 6.800781 -6.601562 6.640625 -6.117188 6.316406 -5.742188 C 6.117188 -5.507812 5.855469 -5.328125 5.539062 -5.195312 C 6.054688 -5.054688 6.453125 -4.78125 6.742188 -4.378906 C 7.03125 -3.976562 7.179688 -3.480469 7.179688 -2.898438 C 7.179688 -1.964844 6.871094 -1.203125 6.253906 -0.617188 C 5.640625 -0.0273438 4.765625 0.265625 3.636719 0.265625 Z M 3.636719 0.265625 \"/>\n",
       "</symbol>\n",
       "<symbol overflow=\"visible\" id=\"glyph0-4\">\n",
       "<path style=\"stroke:none;\" d=\"M 4.628906 -3.464844 L 4.628906 -7.902344 L 1.492188 -3.464844 Z M 4.648438 0 L 4.648438 -2.390625 L 0.355469 -2.390625 L 0.355469 -3.59375 L 4.839844 -9.816406 L 5.878906 -9.816406 L 5.878906 -3.464844 L 7.320312 -3.464844 L 7.320312 -2.390625 L 5.878906 -2.390625 L 5.878906 0 Z M 4.648438 0 \"/>\n",
       "</symbol>\n",
       "<symbol overflow=\"visible\" id=\"glyph0-5\">\n",
       "<path style=\"stroke:none;\" d=\"M 1.730469 -2.496094 C 1.8125 -1.792969 2.136719 -1.308594 2.707031 -1.039062 C 3 -0.902344 3.335938 -0.835938 3.71875 -0.835938 C 4.449219 -0.835938 4.988281 -1.066406 5.339844 -1.53125 C 5.691406 -1.996094 5.867188 -2.511719 5.867188 -3.078125 C 5.867188 -3.761719 5.65625 -4.289062 5.238281 -4.664062 C 4.820312 -5.035156 4.324219 -5.222656 3.738281 -5.222656 C 3.316406 -5.222656 2.953125 -5.140625 2.648438 -4.976562 C 2.34375 -4.8125 2.085938 -4.585938 1.875 -4.292969 L 0.804688 -4.355469 L 1.550781 -9.625 L 6.636719 -9.625 L 6.636719 -8.4375 L 2.476562 -8.4375 L 2.058594 -5.714844 C 2.285156 -5.886719 2.5 -6.019531 2.707031 -6.105469 C 3.070312 -6.253906 3.492188 -6.328125 3.972656 -6.328125 C 4.871094 -6.328125 5.628906 -6.039062 6.253906 -5.460938 C 6.878906 -4.882812 7.191406 -4.148438 7.191406 -3.261719 C 7.191406 -2.335938 6.90625 -1.519531 6.332031 -0.8125 C 5.761719 -0.105469 4.847656 0.246094 3.59375 0.246094 C 2.796875 0.246094 2.09375 0.0234375 1.480469 -0.425781 C 0.867188 -0.875 0.523438 -1.566406 0.453125 -2.496094 Z M 1.730469 -2.496094 \"/>\n",
       "</symbol>\n",
       "<symbol overflow=\"visible\" id=\"glyph0-6\">\n",
       "<path style=\"stroke:none;\" d=\"M 4.09375 -9.828125 C 5.1875 -9.828125 5.949219 -9.546875 6.382812 -8.980469 C 6.8125 -8.414062 7.027344 -7.828125 7.027344 -7.226562 L 5.8125 -7.226562 C 5.738281 -7.613281 5.621094 -7.914062 5.460938 -8.132812 C 5.164062 -8.542969 4.71875 -8.75 4.117188 -8.75 C 3.429688 -8.75 2.878906 -8.433594 2.476562 -7.796875 C 2.070312 -7.160156 1.84375 -6.25 1.796875 -5.066406 C 2.078125 -5.480469 2.4375 -5.789062 2.863281 -5.996094 C 3.257812 -6.179688 3.695312 -6.269531 4.175781 -6.269531 C 4.996094 -6.269531 5.710938 -6.007812 6.324219 -5.484375 C 6.933594 -4.960938 7.238281 -4.175781 7.238281 -3.136719 C 7.238281 -2.25 6.949219 -1.460938 6.371094 -0.777344 C 5.792969 -0.0898438 4.96875 0.253906 3.898438 0.253906 C 2.980469 0.253906 2.191406 -0.09375 1.523438 -0.789062 C 0.859375 -1.484375 0.527344 -2.65625 0.527344 -4.300781 C 0.527344 -5.515625 0.675781 -6.546875 0.96875 -7.398438 C 1.539062 -9.019531 2.582031 -9.828125 4.09375 -9.828125 Z M 4.007812 -0.839844 C 4.652344 -0.839844 5.136719 -1.058594 5.457031 -1.492188 C 5.78125 -1.929688 5.941406 -2.441406 5.941406 -3.035156 C 5.941406 -3.535156 5.796875 -4.015625 5.507812 -4.46875 C 5.222656 -4.921875 4.699219 -5.148438 3.945312 -5.148438 C 3.414062 -5.148438 2.953125 -4.972656 2.554688 -4.621094 C 2.15625 -4.269531 1.953125 -3.742188 1.953125 -3.035156 C 1.953125 -2.414062 2.136719 -1.894531 2.5 -1.472656 C 2.859375 -1.050781 3.363281 -0.839844 4.007812 -0.839844 Z M 4.007812 -0.839844 \"/>\n",
       "</symbol>\n",
       "<symbol overflow=\"visible\" id=\"glyph0-7\">\n",
       "<path style=\"stroke:none;\" d=\"M 7.320312 -9.625 L 7.320312 -8.550781 C 7.007812 -8.246094 6.589844 -7.714844 6.066406 -6.960938 C 5.546875 -6.203125 5.082031 -5.386719 4.683594 -4.511719 C 4.285156 -3.660156 3.984375 -2.882812 3.78125 -2.179688 C 3.648438 -1.730469 3.476562 -1.003906 3.265625 0 L 1.90625 0 C 2.21875 -1.867188 2.902344 -3.726562 3.957031 -5.578125 C 4.582031 -6.664062 5.238281 -7.597656 5.925781 -8.386719 L 0.511719 -8.386719 L 0.511719 -9.625 Z M 7.320312 -9.625 \"/>\n",
       "</symbol>\n",
       "</g>\n",
       "</defs>\n",
       "<g id=\"surface2584\">\n",
       "<rect x=\"0\" y=\"0\" width=\"600\" height=\"600\" style=\"fill:rgb(100%,100%,100%);fill-opacity:1;stroke:none;\"/>\n",
       "<path style=\"fill:none;stroke-width:1;stroke-linecap:butt;stroke-linejoin:miter;stroke:rgb(26.666667%,26.666667%,26.666667%);stroke-opacity:1;stroke-miterlimit:10;\" d=\"M 241.203125 580 L 194.660156 425.625 \"/>\n",
       "<path style=\"fill:none;stroke-width:1;stroke-linecap:butt;stroke-linejoin:miter;stroke:rgb(26.666667%,26.666667%,26.666667%);stroke-opacity:1;stroke-miterlimit:10;\" d=\"M 580 175.964844 L 405.339844 174.375 \"/>\n",
       "<path style=\"fill:none;stroke-width:1;stroke-linecap:butt;stroke-linejoin:miter;stroke:rgb(26.666667%,26.666667%,26.666667%);stroke-opacity:1;stroke-miterlimit:10;\" d=\"M 20 424.035156 L 194.660156 425.625 \"/>\n",
       "<path style=\"fill:none;stroke-width:1;stroke-linecap:butt;stroke-linejoin:miter;stroke:rgb(26.666667%,26.666667%,26.666667%);stroke-opacity:1;stroke-miterlimit:10;\" d=\"M 194.660156 425.625 L 300 300 \"/>\n",
       "<path style=\"fill:none;stroke-width:1;stroke-linecap:butt;stroke-linejoin:miter;stroke:rgb(26.666667%,26.666667%,26.666667%);stroke-opacity:1;stroke-miterlimit:10;\" d=\"M 300 300 L 405.339844 174.375 \"/>\n",
       "<path style=\"fill:none;stroke-width:1;stroke-linecap:butt;stroke-linejoin:miter;stroke:rgb(26.666667%,26.666667%,26.666667%);stroke-opacity:1;stroke-miterlimit:10;\" d=\"M 405.339844 174.375 L 358.796875 20 \"/>\n",
       "<path style=\"fill-rule:nonzero;fill:rgb(100%,0%,0%);fill-opacity:1;stroke-width:1;stroke-linecap:butt;stroke-linejoin:miter;stroke:rgb(0%,0%,0%);stroke-opacity:1;stroke-miterlimit:10;\" d=\"M 251.203125 580 C 251.203125 585.523438 246.726562 590 241.203125 590 C 235.679688 590 231.203125 585.523438 231.203125 580 C 231.203125 574.476562 235.679688 570 241.203125 570 C 246.726562 570 251.203125 574.476562 251.203125 580 \"/>\n",
       "<path style=\"fill-rule:nonzero;fill:rgb(0%,100%,0%);fill-opacity:1;stroke-width:1;stroke-linecap:butt;stroke-linejoin:miter;stroke:rgb(0%,0%,0%);stroke-opacity:1;stroke-miterlimit:10;\" d=\"M 590 175.964844 C 590 181.484375 585.523438 185.964844 580 185.964844 C 574.476562 185.964844 570 181.484375 570 175.964844 C 570 170.441406 574.476562 165.964844 580 165.964844 C 585.523438 165.964844 590 170.441406 590 175.964844 \"/>\n",
       "<path style=\"fill-rule:nonzero;fill:rgb(74.509804%,74.509804%,74.509804%);fill-opacity:1;stroke-width:1;stroke-linecap:butt;stroke-linejoin:miter;stroke:rgb(0%,0%,0%);stroke-opacity:1;stroke-miterlimit:10;\" d=\"M 30 424.035156 C 30 429.558594 25.523438 434.035156 20 434.035156 C 14.476562 434.035156 10 429.558594 10 424.035156 C 10 418.515625 14.476562 414.035156 20 414.035156 C 25.523438 414.035156 30 418.515625 30 424.035156 \"/>\n",
       "<path style=\"fill-rule:nonzero;fill:rgb(74.509804%,74.509804%,74.509804%);fill-opacity:1;stroke-width:1;stroke-linecap:butt;stroke-linejoin:miter;stroke:rgb(0%,0%,0%);stroke-opacity:1;stroke-miterlimit:10;\" d=\"M 204.660156 425.625 C 204.660156 431.144531 200.183594 435.625 194.660156 435.625 C 189.136719 435.625 184.660156 431.144531 184.660156 425.625 C 184.660156 420.101562 189.136719 415.625 194.660156 415.625 C 200.183594 415.625 204.660156 420.101562 204.660156 425.625 \"/>\n",
       "<path style=\"fill-rule:nonzero;fill:rgb(74.509804%,74.509804%,74.509804%);fill-opacity:1;stroke-width:1;stroke-linecap:butt;stroke-linejoin:miter;stroke:rgb(0%,0%,0%);stroke-opacity:1;stroke-miterlimit:10;\" d=\"M 310 300 C 310 305.523438 305.523438 310 300 310 C 294.476562 310 290 305.523438 290 300 C 290 294.476562 294.476562 290 300 290 C 305.523438 290 310 294.476562 310 300 \"/>\n",
       "<path style=\"fill-rule:nonzero;fill:rgb(74.509804%,74.509804%,74.509804%);fill-opacity:1;stroke-width:1;stroke-linecap:butt;stroke-linejoin:miter;stroke:rgb(0%,0%,0%);stroke-opacity:1;stroke-miterlimit:10;\" d=\"M 415.339844 174.375 C 415.339844 179.898438 410.863281 184.375 405.339844 184.375 C 399.816406 184.375 395.339844 179.898438 395.339844 174.375 C 395.339844 168.855469 399.816406 164.375 405.339844 164.375 C 410.863281 164.375 415.339844 168.855469 415.339844 174.375 \"/>\n",
       "<path style=\"fill-rule:nonzero;fill:rgb(74.509804%,74.509804%,74.509804%);fill-opacity:1;stroke-width:1;stroke-linecap:butt;stroke-linejoin:miter;stroke:rgb(0%,0%,0%);stroke-opacity:1;stroke-miterlimit:10;\" d=\"M 368.796875 20 C 368.796875 25.523438 364.320312 30 358.796875 30 C 353.273438 30 348.796875 25.523438 348.796875 20 C 348.796875 14.476562 353.273438 10 358.796875 10 C 364.320312 10 368.796875 14.476562 368.796875 20 \"/>\n",
       "<g style=\"fill:rgb(0%,0%,0%);fill-opacity:1;\">\n",
       "  <use xlink:href=\"#glyph0-1\" x=\"238.054688\" y=\"586.484375\"/>\n",
       "</g>\n",
       "<g style=\"fill:rgb(0%,0%,0%);fill-opacity:1;\">\n",
       "  <use xlink:href=\"#glyph0-2\" x=\"576.179688\" y=\"182.484375\"/>\n",
       "</g>\n",
       "<g style=\"fill:rgb(0%,0%,0%);fill-opacity:1;\">\n",
       "  <use xlink:href=\"#glyph0-3\" x=\"16.242188\" y=\"430.546875\"/>\n",
       "</g>\n",
       "<g style=\"fill:rgb(0%,0%,0%);fill-opacity:1;\">\n",
       "  <use xlink:href=\"#glyph0-4\" x=\"190.824219\" y=\"432.140625\"/>\n",
       "</g>\n",
       "<g style=\"fill:rgb(0%,0%,0%);fill-opacity:1;\">\n",
       "  <use xlink:href=\"#glyph0-5\" x=\"296.179688\" y=\"306.421875\"/>\n",
       "</g>\n",
       "<g style=\"fill:rgb(0%,0%,0%);fill-opacity:1;\">\n",
       "  <use xlink:href=\"#glyph0-6\" x=\"401.457031\" y=\"180.902344\"/>\n",
       "</g>\n",
       "<g style=\"fill:rgb(0%,0%,0%);fill-opacity:1;\">\n",
       "  <use xlink:href=\"#glyph0-7\" x=\"354.878906\" y=\"26.421875\"/>\n",
       "</g>\n",
       "</g>\n",
       "</svg>\n"
      ],
      "text/plain": [
       "<igraph.drawing.Plot at 0x7fefed002b50>"
      ]
     },
     "execution_count": 368,
     "metadata": {
      "image/svg+xml": {
       "isolated": true
      }
     },
     "output_type": "execute_result"
    }
   ],
   "source": [
    "plot(g)"
   ]
  },
  {
   "cell_type": "code",
   "execution_count": null,
   "id": "29919c73-c64b-4723-97cc-059caefb0e59",
   "metadata": {},
   "outputs": [],
   "source": []
  },
  {
   "cell_type": "code",
   "execution_count": null,
   "id": "762c909c-f2d5-49e3-86f5-6eeb9dd9094a",
   "metadata": {},
   "outputs": [],
   "source": []
  },
  {
   "cell_type": "code",
   "execution_count": 406,
   "id": "54c74aee-fe52-4b58-8216-d9e420b2ebdc",
   "metadata": {},
   "outputs": [
    {
     "name": "stdout",
     "output_type": "stream",
     "text": [
      "Collecting webcolors\n",
      "  Downloading webcolors-1.12-py3-none-any.whl (9.9 kB)\n",
      "Installing collected packages: webcolors\n",
      "Successfully installed webcolors-1.12\n"
     ]
    }
   ],
   "source": [
    "!pip install webcolors"
   ]
  },
  {
   "cell_type": "code",
   "execution_count": 405,
   "id": "c5625386-a29c-41d2-b5e7-ab1834acfbba",
   "metadata": {},
   "outputs": [
    {
     "ename": "ModuleNotFoundError",
     "evalue": "No module named 'webcolors'",
     "output_type": "error",
     "traceback": [
      "\u001b[0;31m---------------------------------------------------------------------------\u001b[0m",
      "\u001b[0;31mModuleNotFoundError\u001b[0m                       Traceback (most recent call last)",
      "\u001b[0;32m/var/folders/zn/1572lrw14snff0mc3dlr9grc0000gn/T/ipykernel_59389/2868758004.py\u001b[0m in \u001b[0;36m<module>\u001b[0;34m\u001b[0m\n\u001b[0;32m----> 1\u001b[0;31m \u001b[0;32mfrom\u001b[0m \u001b[0mwebcolors\u001b[0m \u001b[0;32mimport\u001b[0m \u001b[0mrgb_to_name\u001b[0m\u001b[0;34m\u001b[0m\u001b[0;34m\u001b[0m\u001b[0m\n\u001b[0m",
      "\u001b[0;31mModuleNotFoundError\u001b[0m: No module named 'webcolors'"
     ]
    }
   ],
   "source": [
    "from webcolors import rgb_to_name"
   ]
  },
  {
   "cell_type": "code",
   "execution_count": null,
   "id": "9c047c43-f651-4f15-ac59-2a26f061f94a",
   "metadata": {},
   "outputs": [],
   "source": []
  },
  {
   "cell_type": "code",
   "execution_count": 198,
   "id": "58416901-4459-4cb9-a97e-cc3464ae11de",
   "metadata": {},
   "outputs": [
    {
     "ename": "TypeError",
     "evalue": "expected str, bytes or os.PathLike object, not Figure",
     "output_type": "error",
     "traceback": [
      "\u001b[0;31m---------------------------------------------------------------------------\u001b[0m",
      "\u001b[0;31mTypeError\u001b[0m                                 Traceback (most recent call last)",
      "\u001b[0;32m/var/folders/zn/1572lrw14snff0mc3dlr9grc0000gn/T/ipykernel_59389/3924240315.py\u001b[0m in \u001b[0;36m<module>\u001b[0;34m\u001b[0m\n\u001b[1;32m      3\u001b[0m \u001b[0;34m\u001b[0m\u001b[0m\n\u001b[1;32m      4\u001b[0m \u001b[0;32mfor\u001b[0m \u001b[0mi\u001b[0m\u001b[0;34m,\u001b[0m \u001b[0mgraph\u001b[0m \u001b[0;32min\u001b[0m \u001b[0menumerate\u001b[0m\u001b[0;34m(\u001b[0m\u001b[0mgraph_sequence\u001b[0m\u001b[0;34m)\u001b[0m\u001b[0;34m:\u001b[0m\u001b[0;34m\u001b[0m\u001b[0;34m\u001b[0m\u001b[0m\n\u001b[0;32m----> 5\u001b[0;31m     \u001b[0mplot\u001b[0m\u001b[0;34m(\u001b[0m\u001b[0mgraph\u001b[0m\u001b[0;34m,\u001b[0m \u001b[0mtarget\u001b[0m\u001b[0;34m=\u001b[0m\u001b[0max\u001b[0m\u001b[0;34m,\u001b[0m  \u001b[0;34m**\u001b[0m\u001b[0mvisual_style\u001b[0m\u001b[0;34m)\u001b[0m\u001b[0;34m\u001b[0m\u001b[0;34m\u001b[0m\u001b[0m\n\u001b[0m\u001b[1;32m      6\u001b[0m     \u001b[0mplt\u001b[0m\u001b[0;34m.\u001b[0m\u001b[0mshow\u001b[0m\u001b[0;34m(\u001b[0m\u001b[0;34m)\u001b[0m\u001b[0;34m\u001b[0m\u001b[0;34m\u001b[0m\u001b[0m\n",
      "\u001b[0;32m~/opt/anaconda3/lib/python3.9/site-packages/igraph/drawing/__init__.py\u001b[0m in \u001b[0;36mplot\u001b[0;34m(obj, target, bbox, *args, **kwds)\u001b[0m\n\u001b[1;32m    484\u001b[0m         \u001b[0mbbox\u001b[0m \u001b[0;34m=\u001b[0m \u001b[0mBoundingBox\u001b[0m\u001b[0;34m(\u001b[0m\u001b[0mbbox\u001b[0m\u001b[0;34m)\u001b[0m\u001b[0;34m\u001b[0m\u001b[0;34m\u001b[0m\u001b[0m\n\u001b[1;32m    485\u001b[0m \u001b[0;34m\u001b[0m\u001b[0m\n\u001b[0;32m--> 486\u001b[0;31m     \u001b[0mresult\u001b[0m \u001b[0;34m=\u001b[0m \u001b[0mPlot\u001b[0m\u001b[0;34m(\u001b[0m\u001b[0mtarget\u001b[0m\u001b[0;34m,\u001b[0m \u001b[0mbbox\u001b[0m\u001b[0;34m,\u001b[0m \u001b[0mbackground\u001b[0m\u001b[0;34m=\u001b[0m\u001b[0mkwds\u001b[0m\u001b[0;34m.\u001b[0m\u001b[0mget\u001b[0m\u001b[0;34m(\u001b[0m\u001b[0;34m\"background\"\u001b[0m\u001b[0;34m,\u001b[0m \u001b[0;34m\"white\"\u001b[0m\u001b[0;34m)\u001b[0m\u001b[0;34m)\u001b[0m\u001b[0;34m\u001b[0m\u001b[0;34m\u001b[0m\u001b[0m\n\u001b[0m\u001b[1;32m    487\u001b[0m \u001b[0;34m\u001b[0m\u001b[0m\n\u001b[1;32m    488\u001b[0m     \u001b[0;32mif\u001b[0m \u001b[0;34m\"margin\"\u001b[0m \u001b[0;32min\u001b[0m \u001b[0mkwds\u001b[0m\u001b[0;34m:\u001b[0m\u001b[0;34m\u001b[0m\u001b[0;34m\u001b[0m\u001b[0m\n",
      "\u001b[0;32m~/opt/anaconda3/lib/python3.9/site-packages/igraph/drawing/__init__.py\u001b[0m in \u001b[0;36m__init__\u001b[0;34m(self, target, bbox, palette, background)\u001b[0m\n\u001b[1;32m    149\u001b[0m         \u001b[0;32melse\u001b[0m\u001b[0;34m:\u001b[0m\u001b[0;34m\u001b[0m\u001b[0;34m\u001b[0m\u001b[0m\n\u001b[1;32m    150\u001b[0m             \u001b[0mself\u001b[0m\u001b[0;34m.\u001b[0m\u001b[0m_filename\u001b[0m \u001b[0;34m=\u001b[0m \u001b[0mtarget\u001b[0m\u001b[0;34m\u001b[0m\u001b[0;34m\u001b[0m\u001b[0m\n\u001b[0;32m--> 151\u001b[0;31m             \u001b[0m_\u001b[0m\u001b[0;34m,\u001b[0m \u001b[0mext\u001b[0m \u001b[0;34m=\u001b[0m \u001b[0mos\u001b[0m\u001b[0;34m.\u001b[0m\u001b[0mpath\u001b[0m\u001b[0;34m.\u001b[0m\u001b[0msplitext\u001b[0m\u001b[0;34m(\u001b[0m\u001b[0mtarget\u001b[0m\u001b[0;34m)\u001b[0m\u001b[0;34m\u001b[0m\u001b[0;34m\u001b[0m\u001b[0m\n\u001b[0m\u001b[1;32m    152\u001b[0m             \u001b[0mext\u001b[0m \u001b[0;34m=\u001b[0m \u001b[0mext\u001b[0m\u001b[0;34m.\u001b[0m\u001b[0mlower\u001b[0m\u001b[0;34m(\u001b[0m\u001b[0;34m)\u001b[0m\u001b[0;34m\u001b[0m\u001b[0;34m\u001b[0m\u001b[0m\n\u001b[1;32m    153\u001b[0m             \u001b[0;32mif\u001b[0m \u001b[0mext\u001b[0m \u001b[0;34m==\u001b[0m \u001b[0;34m\".pdf\"\u001b[0m\u001b[0;34m:\u001b[0m\u001b[0;34m\u001b[0m\u001b[0;34m\u001b[0m\u001b[0m\n",
      "\u001b[0;32m~/opt/anaconda3/lib/python3.9/posixpath.py\u001b[0m in \u001b[0;36msplitext\u001b[0;34m(p)\u001b[0m\n\u001b[1;32m    116\u001b[0m \u001b[0;34m\u001b[0m\u001b[0m\n\u001b[1;32m    117\u001b[0m \u001b[0;32mdef\u001b[0m \u001b[0msplitext\u001b[0m\u001b[0;34m(\u001b[0m\u001b[0mp\u001b[0m\u001b[0;34m)\u001b[0m\u001b[0;34m:\u001b[0m\u001b[0;34m\u001b[0m\u001b[0;34m\u001b[0m\u001b[0m\n\u001b[0;32m--> 118\u001b[0;31m     \u001b[0mp\u001b[0m \u001b[0;34m=\u001b[0m \u001b[0mos\u001b[0m\u001b[0;34m.\u001b[0m\u001b[0mfspath\u001b[0m\u001b[0;34m(\u001b[0m\u001b[0mp\u001b[0m\u001b[0;34m)\u001b[0m\u001b[0;34m\u001b[0m\u001b[0;34m\u001b[0m\u001b[0m\n\u001b[0m\u001b[1;32m    119\u001b[0m     \u001b[0;32mif\u001b[0m \u001b[0misinstance\u001b[0m\u001b[0;34m(\u001b[0m\u001b[0mp\u001b[0m\u001b[0;34m,\u001b[0m \u001b[0mbytes\u001b[0m\u001b[0;34m)\u001b[0m\u001b[0;34m:\u001b[0m\u001b[0;34m\u001b[0m\u001b[0;34m\u001b[0m\u001b[0m\n\u001b[1;32m    120\u001b[0m         \u001b[0msep\u001b[0m \u001b[0;34m=\u001b[0m \u001b[0;34mb'/'\u001b[0m\u001b[0;34m\u001b[0m\u001b[0;34m\u001b[0m\u001b[0m\n",
      "\u001b[0;31mTypeError\u001b[0m: expected str, bytes or os.PathLike object, not Figure"
     ]
    },
    {
     "data": {
      "image/png": "[encoded data removed]",
      "text/plain": [
       "<Figure size 640x480 with 45 Axes>"
      ]
     },
     "metadata": {},
     "output_type": "display_data"
    }
   ],
   "source": [
    "fig, axs = plt.subplots(len(graph_sequence), 1, sharex=True, sharey=True)\n",
    "# ax, fig = plt.subplots()\n",
    "\n",
    "for i, graph in enumerate(graph_sequence):\n",
    "    plot(graph, target=ax,  **visual_style)\n",
    "    plt.show()"
   ]
  },
  {
   "cell_type": "code",
   "execution_count": null,
   "id": "6d374e4e-8e99-4b88-8c2b-56e8d5820060",
   "metadata": {},
   "outputs": [],
   "source": []
  },
  {
   "cell_type": "code",
   "execution_count": 184,
   "id": "ec3ad9b9-03d9-4b59-bc88-25f88b6c6fd9",
   "metadata": {},
   "outputs": [
    {
     "data": {
      "image/svg+xml": [
       "<?xml version=\"1.0\" encoding=\"UTF-8\"?>\n",
       "<svg xmlns=\"http://www.w3.org/2000/svg\" xmlns:xlink=\"http://www.w3.org/1999/xlink\" width=\"600pt\" height=\"600pt\" viewBox=\"0 0 600 600\" version=\"1.1\">\n",
       "<defs>\n",
       "<g>\n",
       "<symbol overflow=\"visible\" id=\"glyph0-0\">\n",
       "<path style=\"stroke:none;\" d=\"M 0.257812 0 L 0.257812 -5.738281 L 4.8125 -5.738281 L 4.8125 0 Z M 4.09375 -0.71875 L 4.09375 -5.019531 L 0.976562 -5.019531 L 0.976562 -0.71875 Z M 4.09375 -0.71875 \"/>\n",
       "</symbol>\n",
       "<symbol overflow=\"visible\" id=\"glyph0-1\">\n",
       "<path style=\"stroke:none;\" d=\"M 0.765625 -3.960938 L 0.765625 -4.5 C 1.273438 -4.550781 1.628906 -4.632812 1.828125 -4.75 C 2.027344 -4.863281 2.179688 -5.136719 2.277344 -5.570312 L 2.832031 -5.570312 L 2.832031 0 L 2.082031 0 L 2.082031 -3.960938 Z M 0.765625 -3.960938 \"/>\n",
       "</symbol>\n",
       "<symbol overflow=\"visible\" id=\"glyph0-2\">\n",
       "<path style=\"stroke:none;\" d=\"M 0.25 0 C 0.277344 -0.480469 0.375 -0.902344 0.546875 -1.257812 C 0.722656 -1.613281 1.058594 -1.9375 1.5625 -2.230469 L 2.3125 -2.664062 C 2.648438 -2.859375 2.882812 -3.027344 3.019531 -3.164062 C 3.234375 -3.378906 3.339844 -3.628906 3.339844 -3.90625 C 3.339844 -4.230469 3.242188 -4.492188 3.046875 -4.679688 C 2.851562 -4.871094 2.589844 -4.96875 2.265625 -4.96875 C 1.785156 -4.96875 1.449219 -4.785156 1.265625 -4.421875 C 1.167969 -4.226562 1.113281 -3.957031 1.101562 -3.609375 L 0.386719 -3.609375 C 0.394531 -4.097656 0.484375 -4.492188 0.65625 -4.800781 C 0.960938 -5.34375 1.5 -5.613281 2.269531 -5.613281 C 2.910156 -5.613281 3.378906 -5.441406 3.671875 -5.09375 C 3.96875 -4.746094 4.117188 -4.363281 4.117188 -3.9375 C 4.117188 -3.488281 3.960938 -3.105469 3.644531 -2.789062 C 3.460938 -2.605469 3.136719 -2.378906 2.664062 -2.117188 L 2.128906 -1.820312 C 1.875 -1.679688 1.671875 -1.546875 1.527344 -1.417969 C 1.265625 -1.191406 1.101562 -0.941406 1.035156 -0.664062 L 4.089844 -0.664062 L 4.089844 0 Z M 0.25 0 \"/>\n",
       "</symbol>\n",
       "<symbol overflow=\"visible\" id=\"glyph0-3\">\n",
       "<path style=\"stroke:none;\" d=\"M 2.078125 0.152344 C 1.417969 0.152344 0.9375 -0.03125 0.640625 -0.390625 C 0.339844 -0.753906 0.191406 -1.199219 0.191406 -1.71875 L 0.925781 -1.71875 C 0.957031 -1.355469 1.023438 -1.09375 1.128906 -0.929688 C 1.3125 -0.636719 1.640625 -0.488281 2.117188 -0.488281 C 2.488281 -0.488281 2.785156 -0.585938 3.007812 -0.785156 C 3.230469 -0.984375 3.34375 -1.238281 3.34375 -1.550781 C 3.34375 -1.9375 3.226562 -2.207031 2.992188 -2.359375 C 2.753906 -2.511719 2.425781 -2.589844 2.007812 -2.589844 C 1.960938 -2.589844 1.914062 -2.589844 1.867188 -2.585938 C 1.816406 -2.585938 1.769531 -2.585938 1.71875 -2.582031 L 1.71875 -3.203125 C 1.792969 -3.195312 1.851562 -3.191406 1.902344 -3.1875 C 1.953125 -3.183594 2.003906 -3.183594 2.0625 -3.183594 C 2.324219 -3.183594 2.542969 -3.226562 2.710938 -3.308594 C 3.007812 -3.453125 3.15625 -3.714844 3.15625 -4.089844 C 3.15625 -4.367188 3.058594 -4.582031 2.859375 -4.734375 C 2.660156 -4.886719 2.429688 -4.960938 2.167969 -4.960938 C 1.699219 -4.960938 1.375 -4.804688 1.195312 -4.492188 C 1.097656 -4.320312 1.039062 -4.074219 1.027344 -3.757812 L 0.332031 -3.757812 C 0.332031 -4.175781 0.414062 -4.527344 0.582031 -4.820312 C 0.867188 -5.339844 1.371094 -5.601562 2.09375 -5.601562 C 2.664062 -5.601562 3.105469 -5.476562 3.417969 -5.21875 C 3.730469 -4.964844 3.886719 -4.597656 3.886719 -4.117188 C 3.886719 -3.773438 3.792969 -3.496094 3.609375 -3.28125 C 3.496094 -3.148438 3.347656 -3.042969 3.164062 -2.96875 C 3.457031 -2.886719 3.6875 -2.734375 3.851562 -2.5 C 4.019531 -2.269531 4.101562 -1.988281 4.101562 -1.65625 C 4.101562 -1.121094 3.925781 -0.6875 3.574219 -0.351562 C 3.222656 -0.015625 2.722656 0.152344 2.078125 0.152344 Z M 2.078125 0.152344 \"/>\n",
       "</symbol>\n",
       "<symbol overflow=\"visible\" id=\"glyph0-4\">\n",
       "<path style=\"stroke:none;\" d=\"M 2.644531 -1.980469 L 2.644531 -4.515625 L 0.851562 -1.980469 Z M 2.65625 0 L 2.65625 -1.367188 L 0.203125 -1.367188 L 0.203125 -2.054688 L 2.765625 -5.609375 L 3.359375 -5.609375 L 3.359375 -1.980469 L 4.183594 -1.980469 L 4.183594 -1.367188 L 3.359375 -1.367188 L 3.359375 0 Z M 2.65625 0 \"/>\n",
       "</symbol>\n",
       "<symbol overflow=\"visible\" id=\"glyph0-5\">\n",
       "<path style=\"stroke:none;\" d=\"M 0.988281 -1.425781 C 1.035156 -1.023438 1.222656 -0.746094 1.546875 -0.59375 C 1.714844 -0.515625 1.90625 -0.476562 2.125 -0.476562 C 2.542969 -0.476562 2.851562 -0.609375 3.050781 -0.875 C 3.25 -1.140625 3.351562 -1.433594 3.351562 -1.757812 C 3.351562 -2.148438 3.234375 -2.449219 2.992188 -2.664062 C 2.753906 -2.878906 2.46875 -2.984375 2.136719 -2.984375 C 1.894531 -2.984375 1.6875 -2.9375 1.515625 -2.84375 C 1.339844 -2.75 1.191406 -2.621094 1.070312 -2.453125 L 0.460938 -2.488281 L 0.886719 -5.5 L 3.792969 -5.5 L 3.792969 -4.820312 L 1.414062 -4.820312 L 1.175781 -3.265625 C 1.304688 -3.363281 1.429688 -3.4375 1.546875 -3.488281 C 1.753906 -3.574219 1.996094 -3.617188 2.269531 -3.617188 C 2.78125 -3.617188 3.21875 -3.453125 3.574219 -3.121094 C 3.929688 -2.789062 4.109375 -2.371094 4.109375 -1.863281 C 4.109375 -1.335938 3.945312 -0.867188 3.617188 -0.464844 C 3.292969 -0.0625 2.769531 0.140625 2.054688 0.140625 C 1.597656 0.140625 1.195312 0.0117188 0.84375 -0.242188 C 0.496094 -0.5 0.300781 -0.894531 0.257812 -1.425781 Z M 0.988281 -1.425781 \"/>\n",
       "</symbol>\n",
       "<symbol overflow=\"visible\" id=\"glyph0-6\">\n",
       "<path style=\"stroke:none;\" d=\"M 2.339844 -5.617188 C 2.964844 -5.617188 3.398438 -5.453125 3.648438 -5.132812 C 3.894531 -4.808594 4.015625 -4.472656 4.015625 -4.128906 L 3.320312 -4.128906 C 3.277344 -4.351562 3.210938 -4.523438 3.121094 -4.648438 C 2.953125 -4.882812 2.695312 -5 2.351562 -5 C 1.957031 -5 1.644531 -4.820312 1.414062 -4.453125 C 1.183594 -4.089844 1.054688 -3.570312 1.027344 -2.894531 C 1.1875 -3.132812 1.390625 -3.308594 1.636719 -3.425781 C 1.859375 -3.53125 2.109375 -3.582031 2.386719 -3.582031 C 2.855469 -3.582031 3.265625 -3.433594 3.613281 -3.132812 C 3.960938 -2.832031 4.136719 -2.386719 4.136719 -1.792969 C 4.136719 -1.285156 3.972656 -0.835938 3.640625 -0.445312 C 3.308594 -0.0507812 2.839844 0.144531 2.226562 0.144531 C 1.703125 0.144531 1.25 -0.0546875 0.871094 -0.453125 C 0.492188 -0.847656 0.300781 -1.515625 0.300781 -2.457031 C 0.300781 -3.152344 0.386719 -3.742188 0.554688 -4.226562 C 0.878906 -5.152344 1.476562 -5.617188 2.339844 -5.617188 Z M 2.289062 -0.480469 C 2.660156 -0.480469 2.9375 -0.605469 3.117188 -0.851562 C 3.300781 -1.101562 3.394531 -1.394531 3.394531 -1.734375 C 3.394531 -2.019531 3.3125 -2.292969 3.148438 -2.554688 C 2.984375 -2.8125 2.6875 -2.941406 2.253906 -2.941406 C 1.953125 -2.941406 1.6875 -2.839844 1.460938 -2.640625 C 1.230469 -2.441406 1.117188 -2.136719 1.117188 -1.734375 C 1.117188 -1.378906 1.21875 -1.082031 1.429688 -0.84375 C 1.636719 -0.601562 1.921875 -0.480469 2.289062 -0.480469 Z M 2.289062 -0.480469 \"/>\n",
       "</symbol>\n",
       "<symbol overflow=\"visible\" id=\"glyph0-7\">\n",
       "<path style=\"stroke:none;\" d=\"M 4.183594 -5.5 L 4.183594 -4.886719 C 4.003906 -4.710938 3.765625 -4.410156 3.46875 -3.976562 C 3.167969 -3.542969 2.90625 -3.078125 2.675781 -2.578125 C 2.449219 -2.089844 2.277344 -1.648438 2.160156 -1.246094 C 2.085938 -0.988281 1.988281 -0.574219 1.867188 0 L 1.089844 0 C 1.265625 -1.066406 1.65625 -2.128906 2.261719 -3.1875 C 2.617188 -3.808594 2.992188 -4.34375 3.386719 -4.792969 L 0.292969 -4.792969 L 0.292969 -5.5 Z M 4.183594 -5.5 \"/>\n",
       "</symbol>\n",
       "</g>\n",
       "</defs>\n",
       "<g id=\"surface1937\">\n",
       "<rect x=\"0\" y=\"0\" width=\"600\" height=\"600\" style=\"fill:rgb(100%,100%,100%);fill-opacity:1;stroke:none;\"/>\n",
       "<path style=\"fill:none;stroke-width:1;stroke-linecap:butt;stroke-linejoin:miter;stroke:rgb(26.666667%,26.666667%,26.666667%);stroke-opacity:1;stroke-miterlimit:10;\" d=\"M 583 240.273438 L 452.902344 192.734375 \"/>\n",
       "<path style=\"fill:none;stroke-width:1;stroke-linecap:butt;stroke-linejoin:miter;stroke:rgb(26.666667%,26.666667%,26.666667%);stroke-opacity:1;stroke-miterlimit:10;\" d=\"M 17 359.457031 L 147.109375 407.222656 \"/>\n",
       "<path style=\"fill:none;stroke-width:1;stroke-linecap:butt;stroke-linejoin:miter;stroke:rgb(26.666667%,26.666667%,26.666667%);stroke-opacity:1;stroke-miterlimit:10;\" d=\"M 505.242188 17 L 452.902344 192.734375 \"/>\n",
       "<path style=\"fill:none;stroke-width:1;stroke-linecap:butt;stroke-linejoin:miter;stroke:rgb(26.666667%,26.666667%,26.666667%);stroke-opacity:1;stroke-miterlimit:10;\" d=\"M 452.902344 192.734375 L 299.992188 300.027344 \"/>\n",
       "<path style=\"fill:none;stroke-width:1;stroke-linecap:butt;stroke-linejoin:miter;stroke:rgb(26.666667%,26.666667%,26.666667%);stroke-opacity:1;stroke-miterlimit:10;\" d=\"M 299.992188 300.027344 L 147.109375 407.222656 \"/>\n",
       "<path style=\"fill:none;stroke-width:1;stroke-linecap:butt;stroke-linejoin:miter;stroke:rgb(26.666667%,26.666667%,26.666667%);stroke-opacity:1;stroke-miterlimit:10;\" d=\"M 147.109375 407.222656 L 94.566406 583 \"/>\n",
       "<path style=\"fill-rule:nonzero;fill:rgb(100%,0%,0%);fill-opacity:1;stroke-width:1;stroke-linecap:butt;stroke-linejoin:miter;stroke:rgb(0%,0%,0%);stroke-opacity:1;stroke-miterlimit:10;\" d=\"M 588 240.273438 C 588 246.941406 578 246.941406 578 240.273438 C 578 233.609375 588 233.609375 588 240.273438 \"/>\n",
       "<path style=\"fill-rule:nonzero;fill:rgb(0%,100%,0%);fill-opacity:1;stroke-width:1;stroke-linecap:butt;stroke-linejoin:miter;stroke:rgb(0%,0%,0%);stroke-opacity:1;stroke-miterlimit:10;\" d=\"M 22 359.457031 C 22 366.125 12 366.125 12 359.457031 C 12 352.792969 22 352.792969 22 359.457031 \"/>\n",
       "<path style=\"fill-rule:nonzero;fill:rgb(100%,100%,0%);fill-opacity:1;stroke-width:1;stroke-linecap:butt;stroke-linejoin:miter;stroke:rgb(0%,0%,0%);stroke-opacity:1;stroke-miterlimit:10;\" d=\"M 510.242188 17 C 510.242188 23.667969 500.242188 23.667969 500.242188 17 C 500.242188 10.332031 510.242188 10.332031 510.242188 17 \"/>\n",
       "<path style=\"fill-rule:nonzero;fill:rgb(100%,100%,0%);fill-opacity:1;stroke-width:1;stroke-linecap:butt;stroke-linejoin:miter;stroke:rgb(0%,0%,0%);stroke-opacity:1;stroke-miterlimit:10;\" d=\"M 457.902344 192.734375 C 457.902344 199.402344 447.902344 199.402344 447.902344 192.734375 C 447.902344 186.066406 457.902344 186.066406 457.902344 192.734375 \"/>\n",
       "<path style=\"fill-rule:nonzero;fill:rgb(100%,100%,0%);fill-opacity:1;stroke-width:1;stroke-linecap:butt;stroke-linejoin:miter;stroke:rgb(0%,0%,0%);stroke-opacity:1;stroke-miterlimit:10;\" d=\"M 304.992188 300.027344 C 304.992188 306.691406 294.992188 306.691406 294.992188 300.027344 C 294.992188 293.359375 304.992188 293.359375 304.992188 300.027344 \"/>\n",
       "<path style=\"fill-rule:nonzero;fill:rgb(100%,100%,0%);fill-opacity:1;stroke-width:1;stroke-linecap:butt;stroke-linejoin:miter;stroke:rgb(0%,0%,0%);stroke-opacity:1;stroke-miterlimit:10;\" d=\"M 152.109375 407.222656 C 152.109375 413.890625 142.109375 413.890625 142.109375 407.222656 C 142.109375 400.558594 152.109375 400.558594 152.109375 407.222656 \"/>\n",
       "<path style=\"fill-rule:nonzero;fill:rgb(100%,100%,0%);fill-opacity:1;stroke-width:1;stroke-linecap:butt;stroke-linejoin:miter;stroke:rgb(0%,0%,0%);stroke-opacity:1;stroke-miterlimit:10;\" d=\"M 99.566406 583 C 99.566406 589.667969 89.566406 589.667969 89.566406 583 C 89.566406 576.332031 99.566406 576.332031 99.566406 583 \"/>\n",
       "<g style=\"fill:rgb(0%,0%,0%);fill-opacity:1;\">\n",
       "  <use xlink:href=\"#glyph0-1\" x=\"581.203125\" y=\"243.980469\"/>\n",
       "</g>\n",
       "<g style=\"fill:rgb(0%,0%,0%);fill-opacity:1;\">\n",
       "  <use xlink:href=\"#glyph0-2\" x=\"14.816406\" y=\"363.183594\"/>\n",
       "</g>\n",
       "<g style=\"fill:rgb(0%,0%,0%);fill-opacity:1;\">\n",
       "  <use xlink:href=\"#glyph0-3\" x=\"503.097656\" y=\"20.71875\"/>\n",
       "</g>\n",
       "<g style=\"fill:rgb(0%,0%,0%);fill-opacity:1;\">\n",
       "  <use xlink:href=\"#glyph0-4\" x=\"450.707031\" y=\"196.460938\"/>\n",
       "</g>\n",
       "<g style=\"fill:rgb(0%,0%,0%);fill-opacity:1;\">\n",
       "  <use xlink:href=\"#glyph0-5\" x=\"297.808594\" y=\"303.695312\"/>\n",
       "</g>\n",
       "<g style=\"fill:rgb(0%,0%,0%);fill-opacity:1;\">\n",
       "  <use xlink:href=\"#glyph0-6\" x=\"144.890625\" y=\"410.953125\"/>\n",
       "</g>\n",
       "<g style=\"fill:rgb(0%,0%,0%);fill-opacity:1;\">\n",
       "  <use xlink:href=\"#glyph0-7\" x=\"92.328125\" y=\"586.667969\"/>\n",
       "</g>\n",
       "</g>\n",
       "</svg>\n"
      ],
      "text/plain": [
       "<igraph.drawing.Plot at 0x7fefedfa03a0>"
      ]
     },
     "execution_count": 184,
     "metadata": {
      "image/svg+xml": {
       "isolated": true
      }
     },
     "output_type": "execute_result"
    }
   ],
   "source": [
    "plot(graph_sequence[6], **visual_style) "
   ]
  },
  {
   "cell_type": "markdown",
   "id": "96882d16-ebe5-414e-89a8-437da1548df7",
   "metadata": {},
   "source": [
    "## Color encoders"
   ]
  },
  {
   "cell_type": "code",
   "execution_count": 27,
   "id": "322fc5a2-8504-4c1d-8525-70541484ad62",
   "metadata": {},
   "outputs": [],
   "source": [
    "def red_green_color(risk_percentage):\n",
    "    pct_diff = 1.0 - risk_percentage\n",
    "    red_color = min(255, pct_diff*2 * 255)\n",
    "    green_color = min(255, risk_percentage*2 * 255)\n",
    "    col = (red_color, green_color, 0)\n",
    "    \n",
    "    return col"
   ]
  },
  {
   "cell_type": "code",
   "execution_count": 477,
   "id": "ee420a32-85ef-4786-aa83-0b46f3a85183",
   "metadata": {},
   "outputs": [],
   "source": [
    "def red_green_color2(risk_percentage):\n",
    "    if risk_percentage < 0.2:\n",
    "        return \"green\"\n",
    "    elif risk_percentage >= 0.2 and risk_percentage < 0.4:\n",
    "        return \"lightgreen\"\n",
    "    elif risk_percentage >= 0.4 and risk_percentage < 0.6:\n",
    "        return \"yellow\"\n",
    "    elif risk_percentage >= 0.6 and risk_percentage < 0.8:\n",
    "        return \"orangered\"\n",
    "    else:\n",
    "        return \"red\"\n",
    "    "
   ]
  },
  {
   "cell_type": "code",
   "execution_count": 533,
   "id": "fe564c21-4e0d-4cc9-a871-cb3697d10be0",
   "metadata": {},
   "outputs": [],
   "source": [
    "def red_green_color2_ext(Y):\n",
    "    \n",
    "    risk_percentage = Y[1]\n",
    "    \n",
    "    if Y[0] == Y[1] == 0.:\n",
    "        return \"grey\"\n",
    "    elif risk_percentage < 0.2:\n",
    "        return \"green\"\n",
    "    elif risk_percentage >= 0.2 and risk_percentage < 0.4:\n",
    "        return \"lightgreen\"\n",
    "    elif risk_percentage >= 0.4 and risk_percentage < 0.6:\n",
    "        return \"yellow\"\n",
    "    elif risk_percentage >= 0.6 and risk_percentage < 0.8:\n",
    "        return \"orangered\"\n",
    "    else:\n",
    "        return \"red\"\n",
    "    "
   ]
  },
  {
   "cell_type": "code",
   "execution_count": 478,
   "id": "bfdcb4f9-75b5-4006-8c01-af33f4455e84",
   "metadata": {},
   "outputs": [],
   "source": [
    "def red_green_color2_inv(risk_percentage):\n",
    "    if risk_percentage < 0.2:\n",
    "        return \"red\"\n",
    "    elif risk_percentage >= 0.2 and risk_percentage < 0.4:\n",
    "        return \"orangered\"\n",
    "    elif risk_percentage >= 0.4 and risk_percentage < 0.6:\n",
    "        return \"yellow\"\n",
    "    elif risk_percentage >= 0.6 and risk_percentage < 0.8:\n",
    "        return \"lightgreen\"\n",
    "    else:\n",
    "        return \"green\"\n",
    "    "
   ]
  },
  {
   "cell_type": "code",
   "execution_count": null,
   "id": "364a6464-d859-452b-9473-fa25995c4625",
   "metadata": {},
   "outputs": [],
   "source": []
  },
  {
   "cell_type": "code",
   "execution_count": 391,
   "id": "85044a6b-8330-4473-80db-2f58e7118380",
   "metadata": {},
   "outputs": [
    {
     "data": {
      "text/plain": [
       "[(255, 0, 0),\n",
       " (255, 168.3, 0),\n",
       " (255, 255, 0),\n",
       " (127.5, 255, 0),\n",
       " (50.999999999999986, 255, 0),\n",
       " (0.0, 255, 0)]"
      ]
     },
     "execution_count": 391,
     "metadata": {},
     "output_type": "execute_result"
    }
   ],
   "source": [
    "list(map(red_green_color, [0, 0.33, 0.5, 0.75, 0.9, 1]))"
   ]
  },
  {
   "cell_type": "code",
   "execution_count": 24,
   "id": "8b55118e-c9c8-47b7-8d80-8473886a87de",
   "metadata": {},
   "outputs": [
    {
     "data": {
      "text/plain": [
       "matrix([[0.  ],\n",
       "        [1.  ],\n",
       "        [0.25],\n",
       "        [0.25],\n",
       "        [0.5 ],\n",
       "        [0.75],\n",
       "        [0.75]])"
      ]
     },
     "execution_count": 24,
     "metadata": {},
     "output_type": "execute_result"
    }
   ],
   "source": [
    "L[:, 1]"
   ]
  },
  {
   "cell_type": "code",
   "execution_count": 13,
   "id": "83f62eec-895b-4d99-8b9a-923e5df82f68",
   "metadata": {},
   "outputs": [
    {
     "data": {
      "text/plain": [
       "matrix([[0],\n",
       "        [1],\n",
       "        [0],\n",
       "        [0],\n",
       "        [0],\n",
       "        [1],\n",
       "        [1]])"
      ]
     },
     "execution_count": 13,
     "metadata": {},
     "output_type": "execute_result"
    }
   ],
   "source": [
    "L.argmax(1)"
   ]
  },
  {
   "cell_type": "code",
   "execution_count": null,
   "id": "36344963-32d6-4f17-a47f-7a6f57165d84",
   "metadata": {},
   "outputs": [],
   "source": []
  },
  {
   "cell_type": "code",
   "execution_count": null,
   "id": "7b4fb0c5-3327-493f-bd6c-ae6a142d912f",
   "metadata": {},
   "outputs": [],
   "source": []
  },
  {
   "cell_type": "code",
   "execution_count": null,
   "id": "18d7570d-a003-4ed9-8d3b-f29ab3f8ccb3",
   "metadata": {},
   "outputs": [],
   "source": []
  },
  {
   "cell_type": "code",
   "execution_count": null,
   "id": "ef4acda7-baf6-425f-8922-89173792e511",
   "metadata": {},
   "outputs": [],
   "source": []
  },
  {
   "cell_type": "code",
   "execution_count": null,
   "id": "295df5d9-3e26-4a6c-a264-dbe412877c91",
   "metadata": {},
   "outputs": [],
   "source": []
  },
  {
   "cell_type": "code",
   "execution_count": 18,
   "id": "e1ef3892-b90d-4e21-b6af-94185af8d693",
   "metadata": {},
   "outputs": [
    {
     "name": "stdout",
     "output_type": "stream",
     "text": [
      "Collecting package metadata (current_repodata.json): done\n",
      "Solving environment: done\n",
      "\n",
      "\n",
      "==> WARNING: A newer version of conda exists. <==\n",
      "  current version: 22.9.0\n",
      "  latest version: 22.11.1\n",
      "\n",
      "Please update conda by running\n",
      "\n",
      "    $ conda update -n base -c defaults conda\n",
      "\n",
      "\n",
      "\n",
      "## Package Plan ##\n",
      "\n",
      "  environment location: /Users/Alexx/opt/anaconda3\n",
      "\n",
      "  added / updated specs:\n",
      "    - python-igraph\n",
      "\n",
      "\n",
      "The following packages will be downloaded:\n",
      "\n",
      "    package                    |            build\n",
      "    ---------------------------|-----------------\n",
      "    arpack-3.7.0               |       hefb7bc6_2         195 KB  conda-forge\n",
      "    ca-certificates-2022.12.7  |       h033912b_0         142 KB  conda-forge\n",
      "    certifi-2022.12.7          |     pyhd8ed1ab_0         147 KB  conda-forge\n",
      "    cfitsio-3.470              |       h01dc385_7         1.3 MB  conda-forge\n",
      "    conda-22.11.1              |   py39h6e9494a_1         874 KB  conda-forge\n",
      "    glpk-5.0                   |       h3cb5acd_0         1.0 MB  conda-forge\n",
      "    hdf5-1.10.6                |nompi_hc5d9132_1114         3.1 MB  conda-forge\n",
      "    libblas-3.9.0              |     12_osx64_mkl          12 KB  conda-forge\n",
      "    libcblas-3.9.0             |     12_osx64_mkl          12 KB  conda-forge\n",
      "    libgfortran-5.0.0          |11_3_0_h97931a8_27         143 KB  conda-forge\n",
      "    libgfortran5-11.3.0        |      h082f757_27         1.4 MB  conda-forge\n",
      "    liblapack-3.9.0            |     12_osx64_mkl          12 KB  conda-forge\n",
      "    libzlib-1.2.13             |       hfd90126_4          64 KB  conda-forge\n",
      "    metis-5.1.0                |    h2e338ed_1006         4.1 MB  conda-forge\n",
      "    mpich-3.3.2                |       external_0          15 KB\n",
      "    openssl-1.1.1s             |       hfd90126_1         1.6 MB  conda-forge\n",
      "    pooch-1.6.0                |     pyhd8ed1ab_0          44 KB  conda-forge\n",
      "    python-igraph-0.10.2       |   py39h0bfd786_0         1.6 MB  conda-forge\n",
      "    ruamel.yaml-0.17.21        |   py39ha30fb19_2         173 KB  conda-forge\n",
      "    ruamel.yaml.clib-0.2.7     |   py39ha30fb19_1         118 KB  conda-forge\n",
      "    scipy-1.10.0               |   py39h8a15683_0        19.1 MB  conda-forge\n",
      "    suitesparse-5.10.1         |       hb09866e_2         1.5 MB\n",
      "    texttable-1.6.7            |     pyhd8ed1ab_0          19 KB  conda-forge\n",
      "    zlib-1.2.13                |       hfd90126_4          93 KB  conda-forge\n",
      "    ------------------------------------------------------------\n",
      "                                           Total:        36.8 MB\n",
      "\n",
      "The following NEW packages will be INSTALLED:\n",
      "\n",
      "  arpack             conda-forge/osx-64::arpack-3.7.0-hefb7bc6_2 None\n",
      "  glpk               conda-forge/osx-64::glpk-5.0-h3cb5acd_0 None\n",
      "  libblas            conda-forge/osx-64::libblas-3.9.0-12_osx64_mkl None\n",
      "  libcblas           conda-forge/osx-64::libcblas-3.9.0-12_osx64_mkl None\n",
      "  libgfortran5       conda-forge/osx-64::libgfortran5-11.3.0-h082f757_27 None\n",
      "  liblapack          conda-forge/osx-64::liblapack-3.9.0-12_osx64_mkl None\n",
      "  libzlib            conda-forge/osx-64::libzlib-1.2.13-hfd90126_4 None\n",
      "  metis              conda-forge/osx-64::metis-5.1.0-h2e338ed_1006 None\n",
      "  pooch              conda-forge/noarch::pooch-1.6.0-pyhd8ed1ab_0 None\n",
      "  python-igraph      conda-forge/osx-64::python-igraph-0.10.2-py39h0bfd786_0 None\n",
      "  python_abi         conda-forge/osx-64::python_abi-3.9-2_cp39 None\n",
      "  ruamel.yaml        conda-forge/osx-64::ruamel.yaml-0.17.21-py39ha30fb19_2 None\n",
      "  ruamel.yaml.clib   conda-forge/osx-64::ruamel.yaml.clib-0.2.7-py39ha30fb19_1 None\n",
      "  suitesparse        pkgs/main/osx-64::suitesparse-5.10.1-hb09866e_2 None\n",
      "  texttable          conda-forge/noarch::texttable-1.6.7-pyhd8ed1ab_0 None\n",
      "\n",
      "The following packages will be UPDATED:\n",
      "\n",
      "  ca-certificates    pkgs/main::ca-certificates-2022.10.11~ --> conda-forge::ca-certificates-2022.12.7-h033912b_0 None\n",
      "  certifi            pkgs/main/osx-64::certifi-2022.9.24-p~ --> conda-forge/noarch::certifi-2022.12.7-pyhd8ed1ab_0 None\n",
      "  cfitsio               pkgs/main::cfitsio-3.470-hee0f690_6 --> conda-forge::cfitsio-3.470-h01dc385_7 None\n",
      "  conda              pkgs/main::conda-22.9.0-py39hecd8cb5_0 --> conda-forge::conda-22.11.1-py39h6e9494a_1 None\n",
      "  hdf5                    pkgs/main::hdf5-1.10.6-hdbbcd12_0 --> conda-forge::hdf5-1.10.6-nompi_hc5d9132_1114 None\n",
      "  libgfortran        pkgs/main::libgfortran-3.0.1-h93005f0~ --> conda-forge::libgfortran-5.0.0-11_3_0_h97931a8_27 None\n",
      "  openssl              pkgs/main::openssl-1.1.1s-hca72f7f_0 --> conda-forge::openssl-1.1.1s-hfd90126_1 None\n",
      "  scipy               pkgs/main::scipy-1.7.3-py39h8c7af03_0 --> conda-forge::scipy-1.10.0-py39h8a15683_0 None\n",
      "  zlib                    pkgs/main::zlib-1.2.13-h4dc903c_0 --> conda-forge::zlib-1.2.13-hfd90126_4 None\n",
      "\n",
      "The following packages will be DOWNGRADED:\n",
      "\n",
      "  mpich                                    3.3.2-hc856adb_0 --> 3.3.2-external_0 None\n",
      "\n",
      "\n",
      "\n",
      "Downloading and Extracting Packages\n",
      "cfitsio-3.470        | 1.3 MB    | ##################################### | 100% \n",
      "libgfortran-5.0.0    | 143 KB    | ##################################### | 100% \n",
      "openssl-1.1.1s       | 1.6 MB    | ##################################### | 100% \n",
      "ca-certificates-2022 | 142 KB    | ##################################### | 100% \n",
      "ruamel.yaml.clib-0.2 | 118 KB    | ##################################### | 100% \n",
      "suitesparse-5.10.1   | 1.5 MB    | ##################################### | 100% \n",
      "libzlib-1.2.13       | 64 KB     | ##################################### | 100% \n",
      "certifi-2022.12.7    | 147 KB    | ##################################### | 100% \n",
      "scipy-1.10.0         | 19.1 MB   | ##################################### | 100% \n",
      "texttable-1.6.7      | 19 KB     | ##################################### | 100% \n",
      "glpk-5.0             | 1.0 MB    | ##################################### | 100% \n",
      "conda-22.11.1        | 874 KB    | ##################################### | 100% \n",
      "mpich-3.3.2          | 15 KB     | ##################################### | 100% \n",
      "arpack-3.7.0         | 195 KB    | ##################################### | 100% \n",
      "metis-5.1.0          | 4.1 MB    | ##################################### | 100% \n",
      "python-igraph-0.10.2 | 1.6 MB    | ##################################### | 100% \n",
      "pooch-1.6.0          | 44 KB     | ##################################### | 100% \n",
      "hdf5-1.10.6          | 3.1 MB    | ##################################### | 100% \n",
      "libblas-3.9.0        | 12 KB     | ##################################### | 100% \n",
      "libgfortran5-11.3.0  | 1.4 MB    | ##################################### | 100% \n",
      "libcblas-3.9.0       | 12 KB     | ##################################### | 100% \n",
      "ruamel.yaml-0.17.21  | 173 KB    | ##################################### | 100% \n",
      "liblapack-3.9.0      | 12 KB     | ##################################### | 100% \n",
      "zlib-1.2.13          | 93 KB     | ##################################### | 100% \n",
      "Preparing transaction: done\n",
      "Verifying transaction: done\n",
      "Executing transaction: done\n",
      "Retrieving notices: ...working... done\n",
      "\n",
      "Note: you may need to restart the kernel to use updated packages.\n"
     ]
    }
   ],
   "source": [
    "conda install -c conda-forge python-igraph"
   ]
  }
 ],
 "metadata": {
  "kernelspec": {
   "display_name": "Python 3 (ipykernel)",
   "language": "python",
   "name": "python3"
  },
  "language_info": {
   "codemirror_mode": {
    "name": "ipython",
    "version": 3
   },
   "file_extension": ".py",
   "mimetype": "text/x-python",
   "name": "python",
   "nbconvert_exporter": "python",
   "pygments_lexer": "ipython3",
   "version": "3.9.7"
  }
 },
 "nbformat": 4,
 "nbformat_minor": 5
}
